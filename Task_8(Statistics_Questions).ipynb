{
  "nbformat": 4,
  "nbformat_minor": 0,
  "metadata": {
    "colab": {
      "name": "Task-8(Statistics Questions).ipynb",
      "provenance": []
    },
    "kernelspec": {
      "name": "python3",
      "display_name": "Python 3"
    },
    "language_info": {
      "name": "python"
    }
  },
  "cells": [
    {
      "cell_type": "code",
      "metadata": {
        "id": "DJhUW5V46xtl"
      },
      "source": [
        "#BINOMIAL DISTRIBUTION-01\n",
        "#SOLUTION\n",
        "import math\n",
        "def combine(a,b):\n",
        "    return math.factorial(a) / (math.factorial(a) * math.factorial(b-a))\n",
        "\n",
        "def binomial(a,b, c):\n",
        "    return combine(a,b) * c**a * (1-c)**(b-a)\n",
        "\n",
        "n, m = list(map(float, input().split(\" \")))\n",
        "odds = n / m\n",
        "print(round(sum([binomial(i, 6, odds / (1 + odds)) for i in range(3, 7)]), 3))\n"
      ],
      "execution_count": null,
      "outputs": []
    },
    {
      "cell_type": "code",
      "metadata": {
        "id": "8KgtLHsq7L14"
      },
      "source": [
        "#BINOMIAL DISTRIBUTION-02\n",
        "#SOLUTION\n",
        "import math\n",
        "def combine(a,b):\n",
        "    return math.factorial(a) / (math.factorial(b) * math.factorial(a-b))\n",
        "\n",
        "def binomial(b,a, c):\n",
        "    return combine(a,b) * c**b * (1-c)**(a-b)\n",
        "\n",
        "p, n = list(map(int, input().split(\" \")))\n",
        "print(round(sum([binomial(i, n, p/100) for i in range(3)]), 3))\n",
        "print(round(sum([binomial(i, n, p/100) for i in range(2, n+1)]), 3))\n",
        "    "
      ],
      "execution_count": null,
      "outputs": []
    },
    {
      "cell_type": "code",
      "metadata": {
        "id": "J6779_Z37VJY"
      },
      "source": [
        "#NORMAL DISTRIBUTION=01\n",
        "#SOLUTION\n",
        "import math\n",
        "mean, standard_deviation = 20, 2\n",
        "cdf = (lambda x: 0.5 * (1 + math.erf((x - mean) / (standard_deviation * (2 ** 0.5)))))\n",
        "print('{:.3f}'.format(cdf(19.5)))\n",
        "print('{:.3f}'.format(cdf(22) - cdf(20)))\n"
      ],
      "execution_count": null,
      "outputs": []
    },
    {
      "cell_type": "code",
      "metadata": {
        "id": "zpJYcUCr7kuj"
      },
      "source": [
        "#NORMAL DISTRIBUTION-02\n",
        "#SOLUTION\n",
        "import math\n",
        "mean, standard_deviation = 70, 10\n",
        "cdf = lambda x: 0.5 * (1 + math.erf((x - mean) / (standard_deviation * (2 ** 0.5))))\n",
        "print('{:.2f}'.format((1-cdf(80))*100))\n",
        "print('{:.2f}'.format((1-cdf(60))*100))\n",
        "print('{:.2f}'.format((cdf(60))*100))\n"
      ],
      "execution_count": null,
      "outputs": []
    },
    {
      "cell_type": "code",
      "metadata": {
        "id": "wBdEBDHL71Ou"
      },
      "source": [
        "#CENTRAL LIMIT THEOREM-01\n",
        "#SOLUTION\n",
        "import math\n",
        "x = int(input())\n",
        "n = int(input())\n",
        "mu = int(input())\n",
        "sigma = int(input())\n",
        "mu_sum = n * mu \n",
        "sigma_sum = math.sqrt(n) * sigma\n",
        "z = (x-mu_sum)/sigma_sum\n",
        "cdf = 0.5*(1+math.erf(z/math.sqrt(2)))\n",
        "print(round(cdf),4)\n"
      ],
      "execution_count": null,
      "outputs": []
    },
    {
      "cell_type": "code",
      "metadata": {
        "id": "YUA9hTom8H66"
      },
      "source": [
        "#CENTRAL LIMIT THEOREM - 02\n",
        "#SOLUTION\n",
        "import math\n",
        "x = int(input())\n",
        "n = int(input())\n",
        "mu = int(input())\n",
        "sigma = int(input())\n",
        "mu_sum = n * mu \n",
        "sigma_sum = math.sqrt(n) * sigma\n",
        "z = (x-mu_sum)/sigma_sum\n",
        "cdf = 0.5*(1+math.erf(z/math.sqrt(2)))\n",
        "print(round(cdf),4)"
      ],
      "execution_count": null,
      "outputs": []
    },
    {
      "cell_type": "code",
      "metadata": {
        "id": "LYL-Gxun8XbJ"
      },
      "source": [
        "#CENTRAL LIMIT THEOREM -03\n",
        "#SOLUTION\n",
        "s = float(input())\n",
        "m = float(input())\n",
        "sd = float(input())\n",
        "inter = float(input())\n",
        "z = float (input())\n",
        "\n",
        "sd_sample = sd / (s**0.5)\n",
        "print(round(m - sd_sample*z,2))\n",
        "print(round(m + sd_sample*z,2))"
      ],
      "execution_count": null,
      "outputs": []
    },
    {
      "cell_type": "code",
      "metadata": {
        "id": "NDLbypOn8l82"
      },
      "source": [
        "#Pearson Correlation Coefficient I\n",
        "#SOLUTION\n",
        "N = int(input())\n",
        "X = list(map(float,input().strip().split()))\n",
        "Y = list(map(float,input().strip().split()))\n",
        "m_x = sum(X) / N\n",
        "m_y = sum(Y) / N\n",
        "std_x = (sum([(i - m_x)**2 for i in X]) / N)**0.5\n",
        "std_y = (sum([(i - m_y)**2 for i in Y]) / N)**0.5\n",
        "cov = sum([(X[i] - m_x) * (Y[i] -m_y) for i in range(N)])\n",
        "corr = cov / (N * std_x * std_y)\n",
        "print(round(corr,3))\n",
        "\n"
      ],
      "execution_count": null,
      "outputs": []
    },
    {
      "cell_type": "code",
      "metadata": {
        "id": "GUvWuQMk8vSC"
      },
      "source": [
        "#Spearman's Rank Correlation Coefficient\n",
        "#SOLUTION\n",
        "n = int(input())\n",
        "X = list(map(float, input().split()))\n",
        "Y = list(map(float, input().split()))\n",
        "rx_rank = dict((x,i+1) for i,x in enumerate(sorted(set(X))))\n",
        "rx = [rx_rank[x] for x in X]\n",
        "ry_rank = dict((y,i+1) for i,y in enumerate(sorted(set(Y))))\n",
        "ry = [ry_rank[y] for y in Y]\n",
        "d = [(rx[i] -ry[i])**2 for i in range(n)]\n",
        "rxy = 1 - (6 * sum(d)) / (n * (n*n - 1))\n",
        "print('%.3f' % rxy)\n"
      ],
      "execution_count": null,
      "outputs": []
    },
    {
      "cell_type": "code",
      "metadata": {
        "id": "7P992tSe9H_v"
      },
      "source": [
        "#Multiple Linear Regression\n",
        "#SOLUTION\n",
        "from sklearn import linear_model\n",
        "def solve(y, x, x_pred):\n",
        "  lm = linear_model.LinearRegression()\n",
        "  lm.fit(x, y)\n",
        "  y_pred = lm.predict(x_pred)\n",
        "  return y_pred\n",
        "def main():\n",
        "  m, n = map(int, input().strip().split())\n",
        "  y = []; x = []; x_pred = []\n",
        "  for _ in range(n):\n",
        "    *features, y_val = map(float, input().strip().split())\n",
        "    x.append(features)\n",
        "    y.append(y_val)\n",
        "  for _ in range(int(input())):\n",
        "    features = list(map(float, input().strip().split()))\n",
        "    x_pred.append(features)\n",
        "  answer = solve(y, x, x_pred)\n",
        "  for num in answer:\n",
        "    print(round(num, 2))\n",
        "if __name__ == \"__main__\":\n",
        "  main()\n"
      ],
      "execution_count": null,
      "outputs": []
    }
  ]
}