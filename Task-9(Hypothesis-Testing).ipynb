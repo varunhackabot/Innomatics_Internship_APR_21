{
  "nbformat": 4,
  "nbformat_minor": 0,
  "metadata": {
    "colab": {
      "name": "Task-9(Hypothesis Testing).ipynb",
      "provenance": []
    },
    "kernelspec": {
      "name": "python3",
      "display_name": "Python 3"
    },
    "language_info": {
      "name": "python"
    }
  },
  "cells": [
    {
      "cell_type": "code",
      "metadata": {
        "id": "k39RXbMtv-Dc"
      },
      "source": [
        "import matplotlib.pyplot as plt\n",
        "import numpy as np\n",
        "from scipy.stats import norm,t"
      ],
      "execution_count": 45,
      "outputs": []
    },
    {
      "cell_type": "markdown",
      "metadata": {
        "id": "Cer63He4CF-8"
      },
      "source": [
        "Q-1: Pista House selling Hyderabadi Chicken Dum biryani claims that each parcel packet has 500 grams of biryani (also mentioned on the label of packet). You are sceptic of their claims and believe that on average each packet does not contain 500 grams of biryani. How do you prove your claim? (Given that the population std is 50)\n",
        "\n",
        "## STEP-01\n",
        "**Alternate Hypothesis (Bold claim)**: $ H_1 \\ \\Rightarrow \\ \\gt, \\ \\lt, \\ \\neq  $\n",
        "\n",
        "**Null Hypothesis (Status Quo)**: $ H_0 \\ \\Rightarrow \\ \\leq, \\ \\geq, \\ = $\n",
        "\n",
        "## STEP-02\n",
        "\n",
        "* Collect the Sample Size of N\n",
        "\n",
        "* Collect the Mean from this Sample $\\bar{x} $\n",
        "\n",
        "## STEP-03\n",
        "\n",
        "**Compute test static based on the data :**\n",
        "\n",
        "* If population variance is known.\n",
        "\n",
        "$$z=\\frac{\\bar x-\\mu}{\\frac{\\sigma}{^2\\sqrt n}}$$\n",
        "\n",
        "* If population variance is not known.\n",
        "\n",
        "$$z = \\frac{\\bar x-\\mu}{\\frac{s}{^2\\sqrt n}}$$\n",
        "\n",
        "## STEP-04\n",
        "**Decide the value of $\\alpha$.The lower the $\\alpha$ the more the chance to reject null hypothesis.**\n",
        "\n",
        "## STEP-05\n",
        "\n",
        " * **For t-test:**\n",
        "  * Two tailed t_test:\n",
        "  $|t|>t_n-1,\\frac{\\alpha}{2} \\Rightarrow$  Accept $H_1$  or Reject $H_0$\n",
        "  * Right tailed t_test:\n",
        "  $t>t_n-1,\\alpha \\Rightarrow$  Accept $H_1$ or Reject $H_0$\n",
        "\n",
        "  * Left tailed t_test:\n",
        "  $t<t_n-1,\\alpha \\Rightarrow$  Accept $H_1$ or Reject $H_0$\n",
        "\n",
        "##STEP-06\n",
        "\n",
        "** Calculate P-Value\n",
        "* For two tailed test:\n",
        "$$ p-value=2*(1.0-cd f(test statistic)) $$\n",
        "* For one tailed test:\n",
        "$$p-value=(1.0-cd f(test statistic)) $$\n",
        "Now,\n",
        "$if(p-value<\\alpha) \\Rightarrow$ Accept $H_1$ or Reject $H_0 $"
      ]
    },
    {
      "cell_type": "code",
      "metadata": {
        "id": "JuyIjLqKwEpz"
      },
      "source": [
        "def t_score(sample_size, sample_mean, pop_mean, se):\n",
        "  numerator = sample_mean - pop_mean\n",
        "  denomenator = se / sample_size**0.5\n",
        "  return numerator / denomenator"
      ],
      "execution_count": 2,
      "outputs": []
    },
    {
      "cell_type": "markdown",
      "metadata": {
        "id": "fXxbRn1UIZSn"
      },
      "source": [
        "**Calculate standard deviation**"
      ]
    },
    {
      "cell_type": "code",
      "metadata": {
        "id": "UpKFJd-cwd5x"
      },
      "source": [
        "def standard_deviation(data):\n",
        "  a = len(data)\n",
        "  b = sum(data)\n",
        "  c = sum(data)/len(data)\n",
        "  d = 0\n",
        "  std = 0\n",
        "  for i in data:\n",
        "    variance = (i-c)**2\n",
        "    d+=variance\n",
        "  std = (d/a)**0.5\n",
        "  return std"
      ],
      "execution_count": 33,
      "outputs": []
    },
    {
      "cell_type": "markdown",
      "metadata": {
        "id": "qMoEKxIbIhw2"
      },
      "source": [
        "**Calculate Sample Mean**"
      ]
    },
    {
      "cell_type": "code",
      "metadata": {
        "colab": {
          "base_uri": "https://localhost:8080/"
        },
        "id": "lmyLLdarwdJA",
        "outputId": "64865e3e-71cd-463c-d64c-e17a3516d9b0"
      },
      "source": [
        "\n",
        "\n",
        "l=[490, 220, 470, 500, 495, 496, 496, 498, 508, 480]\n",
        "sum(l)/len(l)\n",
        "\n"
      ],
      "execution_count": 34,
      "outputs": [
        {
          "output_type": "execute_result",
          "data": {
            "text/plain": [
              "465.3"
            ]
          },
          "metadata": {
            "tags": []
          },
          "execution_count": 34
        }
      ]
    },
    {
      "cell_type": "markdown",
      "metadata": {
        "id": "hKVbEhTLIouJ"
      },
      "source": [
        "**Calculate t-critical**"
      ]
    },
    {
      "cell_type": "code",
      "metadata": {
        "colab": {
          "base_uri": "https://localhost:8080/"
        },
        "id": "rZ23dG3jyuH8",
        "outputId": "d18f772b-99ff-433e-8e0c-20b5af0de09a"
      },
      "source": [
        "alpha = 1 - 0.95\n",
        "\n",
        "t_critical = t.ppf(1-alpha/2, df =9)\n",
        "\n",
        "print(t_critical)"
      ],
      "execution_count": 35,
      "outputs": [
        {
          "output_type": "stream",
          "text": [
            "2.2621571627409915\n"
          ],
          "name": "stdout"
        }
      ]
    },
    {
      "cell_type": "code",
      "metadata": {
        "colab": {
          "base_uri": "https://localhost:8080/"
        },
        "id": "XrngbdkryOjQ",
        "outputId": "05f0cbcc-32fa-4e01-c905-58a01ffe5b12"
      },
      "source": [
        "standard_deviation(l)"
      ],
      "execution_count": 36,
      "outputs": [
        {
          "output_type": "execute_result",
          "data": {
            "text/plain": [
              "82.3918078451978"
            ]
          },
          "metadata": {
            "tags": []
          },
          "execution_count": 36
        }
      ]
    },
    {
      "cell_type": "markdown",
      "metadata": {
        "id": "5e9DFtG2Is5E"
      },
      "source": [
        "**Data Values**"
      ]
    },
    {
      "cell_type": "code",
      "metadata": {
        "id": "bkwE602Yyia6"
      },
      "source": [
        "sample_size = 10\n",
        "sample_mean = 465.3\n",
        "pop_mean = 500\n",
        "se = 82.39180"
      ],
      "execution_count": 39,
      "outputs": []
    },
    {
      "cell_type": "markdown",
      "metadata": {
        "id": "qH5ClJT3IzlZ"
      },
      "source": [
        "**Calculate t-score**"
      ]
    },
    {
      "cell_type": "code",
      "metadata": {
        "colab": {
          "base_uri": "https://localhost:8080/"
        },
        "id": "X4QN0RzlyzFK",
        "outputId": "6b8ee794-bc2e-4a5c-8346-f64938910dc8"
      },
      "source": [
        "t = t_score(sample_size, sample_mean, pop_mean,se)\n",
        "\n",
        "print(t)"
      ],
      "execution_count": 49,
      "outputs": [
        {
          "output_type": "stream",
          "text": [
            "-1.3318198510997785\n"
          ],
          "name": "stdout"
        }
      ]
    },
    {
      "cell_type": "code",
      "metadata": {
        "colab": {
          "base_uri": "https://localhost:8080/"
        },
        "id": "xlI59pE2y5cV",
        "outputId": "24399ecd-f31f-44b1-c6d1-9305af73765b"
      },
      "source": [
        "if(t < -t_critical):\n",
        "    print(\"Reject Null Hypothesis\")\n",
        "else:\n",
        "    print(\"Fail to reject Null Hypothesis\")"
      ],
      "execution_count": 9,
      "outputs": [
        {
          "output_type": "stream",
          "text": [
            "Fail to reject Null Hypothesis\n"
          ],
          "name": "stdout"
        }
      ]
    },
    {
      "cell_type": "markdown",
      "metadata": {
        "id": "Kt-IABToI5sr"
      },
      "source": [
        "**Plotting the graph**"
      ]
    },
    {
      "cell_type": "code",
      "metadata": {
        "id": "Vj0oX0fT450c",
        "colab": {
          "base_uri": "https://localhost:8080/",
          "height": 282
        },
        "outputId": "01769dac-b98a-4b36-9779-d58d4e641421"
      },
      "source": [
        "\n",
        "x_min=100\n",
        "x_max=900\n",
        "\n",
        "mean=pop_mean\n",
        "std=se/sample_size**0.5\n",
        "\n",
        "# Ploting the graph and setting the x limits\n",
        "x=np.linspace(x_min,x_max,100)\n",
        "y=norm.pdf(x,mean,std)\n",
        "plt.xlim(x_min,x_max)\n",
        "plt.plot(x,y)\n",
        "\n",
        "# Computing the left and right critical values (Two tailed Test)\n",
        "t_critical_left = pop_mean + (-t_critical * std)\n",
        "t_critical_right = pop_mean + (t_critical * std)\n",
        "\n",
        "# Shading the left rejection region\n",
        "x1 = np.linspace(x_min, t_critical_left, 100)\n",
        "y1 = norm.pdf(x1, mean, std)\n",
        "plt.fill_between(x1, y1, color='orange')\n",
        "\n",
        "\n",
        "# Shading the right rejection region\n",
        "x2 = np.linspace(t_critical_right, x_max, 100)\n",
        "y2 = norm.pdf(x2, mean, std)\n",
        "plt.fill_between(x2, y2, color='orange')\n",
        "\n",
        "# Ploting the sample mean and concluding the results \n",
        "plt.scatter(sample_mean, 0)\n",
        "plt.annotate(\"x_bar\", (sample_mean, 0.0007))\n"
      ],
      "execution_count": 41,
      "outputs": [
        {
          "output_type": "execute_result",
          "data": {
            "text/plain": [
              "Text(465.3, 0.0007, 'x_bar')"
            ]
          },
          "metadata": {
            "tags": []
          },
          "execution_count": 41
        },
        {
          "output_type": "display_data",
          "data": {
            "image/png": "[encoded data removed]",
            "text/plain": [
              "<Figure size 432x288 with 1 Axes>"
            ]
          },
          "metadata": {
            "tags": [],
            "needs_background": "light"
          }
        }
      ]
    },
    {
      "cell_type": "markdown",
      "metadata": {
        "id": "RQwD-tc0KBXr"
      },
      "source": [
        "**Calculate p-value**"
      ]
    },
    {
      "cell_type": "code",
      "metadata": {
        "colab": {
          "base_uri": "https://localhost:8080/"
        },
        "id": "cbeJuHLYJTS3",
        "outputId": "9de44c1c-4661-43bf-9600-b124744bd116"
      },
      "source": [
        "p_value = 2 * (1.0 - norm.cdf(abs(t)))\n",
        "\n",
        "print(\"p_value = \", p_value)\n",
        "\n",
        "if(p_value < alpha):\n",
        "    print(\"Reject Null Hypothesis\")\n",
        "else:\n",
        "    print(\"Fail to reject Null Hypothesis\")"
      ],
      "execution_count": 50,
      "outputs": [
        {
          "output_type": "stream",
          "text": [
            "p_value =  0.18291939318218664\n",
            "Fail to reject Null Hypothesis\n"
          ],
          "name": "stdout"
        }
      ]
    },
    {
      "cell_type": "markdown",
      "metadata": {
        "id": "s-5BxBkXJCJT"
      },
      "source": [
        "Q-2: You have developed a new Natural Language Processing Algorithms and done a user study. You claim that the average rating given by the users is greater than 4 on a scale of 1 to 5. How do you prove this to your client? (Given that the population std is 0.5)"
      ]
    },
    {
      "cell_type": "markdown",
      "metadata": {
        "id": "cppdX_xEJG2a"
      },
      "source": [
        "**Calculate the sample Mean**"
      ]
    },
    {
      "cell_type": "code",
      "metadata": {
        "colab": {
          "base_uri": "https://localhost:8080/"
        },
        "id": "ZR76tATiy_U0",
        "outputId": "b3cfc7f3-83f3-469a-9626-7206b8669df7"
      },
      "source": [
        "l2=[2,3,5,4,3,2,4,5,5,3,2,4,4,5,5,5,3,2,2,1]\n",
        "z = np.mean(l2)\n",
        "print(z)"
      ],
      "execution_count": 42,
      "outputs": [
        {
          "output_type": "stream",
          "text": [
            "3.45\n"
          ],
          "name": "stdout"
        }
      ]
    },
    {
      "cell_type": "markdown",
      "metadata": {
        "id": "eleXKaB5KGJs"
      },
      "source": [
        "**Compute one tail test based on $H_0$ and $H_1$.Keep the signiface level as $\\alpha=0.95$"
      ]
    },
    {
      "cell_type": "code",
      "metadata": {
        "id": "wZAc8P3R0NUP",
        "colab": {
          "base_uri": "https://localhost:8080/"
        },
        "outputId": "855709ad-6be6-4f9f-95ae-a1077825615a"
      },
      "source": [
        "#ONE_TAIL_TEST\n",
        "from scipy.stats import t\n",
        "\n",
        "confidence_leve_2=0.95\n",
        "alpha_2=1-confidence_leve_2\n",
        "t_critical_2=t.ppf(1-alpha_2, df = 9)\n",
        "print(t_critical_2)"
      ],
      "execution_count": 51,
      "outputs": [
        {
          "output_type": "stream",
          "text": [
            "1.8331129326536335\n"
          ],
          "name": "stdout"
        }
      ]
    },
    {
      "cell_type": "code",
      "metadata": {
        "colab": {
          "base_uri": "https://localhost:8080/"
        },
        "id": "lnqpgrO9AA9S",
        "outputId": "1704ea47-ffc4-4f19-f28c-c40cdaf7757b"
      },
      "source": [
        "standard_deviation(l2)"
      ],
      "execution_count": 52,
      "outputs": [
        {
          "output_type": "execute_result",
          "data": {
            "text/plain": [
              "1.2835497652993437"
            ]
          },
          "metadata": {
            "tags": []
          },
          "execution_count": 52
        }
      ]
    },
    {
      "cell_type": "code",
      "metadata": {
        "id": "o_oD0-zSAKA8"
      },
      "source": [
        "sample_size_2 = 20\n",
        "sample_mean_2 = 3.45\n",
        "pop_mean_2 = 4\n",
        "sample_std_2 = 1.2835497652993437"
      ],
      "execution_count": 53,
      "outputs": []
    },
    {
      "cell_type": "code",
      "metadata": {
        "colab": {
          "base_uri": "https://localhost:8080/"
        },
        "id": "ZCFg6RiDANUe",
        "outputId": "03ee33d5-f991-4886-8959-e14c9c255281"
      },
      "source": [
        "t_2=t_score(sample_mean_2,pop_mean_2,sample_std_2,sample_size_2)\n",
        "print(t_2)"
      ],
      "execution_count": 57,
      "outputs": [
        {
          "output_type": "stream",
          "text": [
            "0.2522791186252744\n"
          ],
          "name": "stdout"
        }
      ]
    },
    {
      "cell_type": "code",
      "metadata": {
        "colab": {
          "base_uri": "https://localhost:8080/",
          "height": 282
        },
        "id": "4GNn7fqUAP4b",
        "outputId": "af68f83b-a542-49d5-d2bb-a6014a7f4b91"
      },
      "source": [
        "x_min_2=1\n",
        "x_max_2=5\n",
        "\n",
        "#Defining the sampling distribution mean and sampling distribution std\n",
        "mean_2=pop_mean_2\n",
        "std_2=sample_std_2/(sample_size_2**0.5)\n",
        "\n",
        "#Plotting the graph and setting the x limits\n",
        "x_2=np.linspace(x_min_2,x_max_2,100)\n",
        "y_2=norm.pdf(x_2,mean_2,std_2)\n",
        "plt.xlim(x_min_2,x_max_2)\n",
        "plt.plot(x_2,y_2)\n",
        "\n",
        "#Computing the critical right value(Right tailed test)\n",
        "t_critical_right_2=pop_mean_2+(t_critical_2*std_2)\n",
        "\n",
        "#Shading the right rejection region\n",
        "x2=np.linspace(t_critical_right_2,x_max_2,100)\n",
        "y2=norm.pdf(x2,mean_2,std_2)\n",
        "plt.fill_between(x2,y2,color='orange')\n",
        "\n",
        "#Plotting the sample mean and concuding the results\n",
        "plt.scatter(sample_mean_2,0)\n",
        "plt.annotate(\"x_bar\",(sample_mean_2,0.1))\n",
        "\n",
        "#In this case the sample mean does not fall in the rejection region\n",
        "#i.e. here we fail to reject he null hypothesis"
      ],
      "execution_count": 55,
      "outputs": [
        {
          "output_type": "execute_result",
          "data": {
            "text/plain": [
              "Text(3.45, 0.1, 'x_bar')"
            ]
          },
          "metadata": {
            "tags": []
          },
          "execution_count": 55
        },
        {
          "output_type": "display_data",
          "data": {
            "image/png": "[encoded data removed]",
            "text/plain": [
              "<Figure size 432x288 with 1 Axes>"
            ]
          },
          "metadata": {
            "tags": [],
            "needs_background": "light"
          }
        }
      ]
    },
    {
      "cell_type": "code",
      "metadata": {
        "colab": {
          "base_uri": "https://localhost:8080/"
        },
        "id": "Nvx1-HayAYuE",
        "outputId": "95e08168-0199-4fb3-c228-f5aab9d08404"
      },
      "source": [
        "if(t_2 > t_critical_2):\n",
        "    print(\"Reject the Null Hypotehsis\")\n",
        "else:\n",
        "    print(\"Fail to reject the Null Hypothesis\")"
      ],
      "execution_count": 56,
      "outputs": [
        {
          "output_type": "stream",
          "text": [
            "Fail to reject the Null Hypothesis\n"
          ],
          "name": "stdout"
        }
      ]
    },
    {
      "cell_type": "markdown",
      "metadata": {
        "id": "8R0d1okpKn1b"
      },
      "source": [
        "**Calculate p-value**"
      ]
    },
    {
      "cell_type": "code",
      "metadata": {
        "colab": {
          "base_uri": "https://localhost:8080/"
        },
        "id": "uDCgD_QLKgf2",
        "outputId": "19da1433-b894-48e4-c4f2-d4f600f9b4c4"
      },
      "source": [
        "p_value = 2 * (1.0 - norm.cdf(abs(t_2)))\n",
        "\n",
        "print(\"p_value = \", p_value)\n",
        "\n",
        "if(p_value < alpha):\n",
        "    print(\"Reject Null Hypothesis\")\n",
        "else:\n",
        "    print(\"Fail to reject Null Hypothesis\")"
      ],
      "execution_count": 58,
      "outputs": [
        {
          "output_type": "stream",
          "text": [
            "p_value =  0.8008253271758552\n",
            "Fail to reject Null Hypothesis\n"
          ],
          "name": "stdout"
        }
      ]
    },
    {
      "cell_type": "markdown",
      "metadata": {
        "id": "ROKxxRvzKrK2"
      },
      "source": [
        "Q-3: TATA has developed a better fuel management system for the SUV segment. They claim that with this system, on average the SUV's mileage is at least 15 km/litre? (Given that the population std is 1)"
      ]
    },
    {
      "cell_type": "markdown",
      "metadata": {
        "id": "PMHM_-19K4ff"
      },
      "source": [
        "**Calculate Sample Mean**"
      ]
    },
    {
      "cell_type": "code",
      "metadata": {
        "colab": {
          "base_uri": "https://localhost:8080/"
        },
        "id": "a5D_Y5eEAcHn",
        "outputId": "35c36c34-dfc2-4745-cdaf-3b066d5a6883"
      },
      "source": [
        "l_3=[14.8,14.13,15.65,13.78,16.26,14.97,15.36,15.81,14.53,16.79,15.78,16.98,13.23,15.4,15.46,13.88,14.31,14.41,15.7,15.38]\n",
        "sum(l_3)/len(l_3)"
      ],
      "execution_count": 59,
      "outputs": [
        {
          "output_type": "execute_result",
          "data": {
            "text/plain": [
              "15.130499999999998"
            ]
          },
          "metadata": {
            "tags": []
          },
          "execution_count": 59
        }
      ]
    },
    {
      "cell_type": "code",
      "metadata": {
        "colab": {
          "base_uri": "https://localhost:8080/"
        },
        "id": "-wH6PIDSAgkB",
        "outputId": "fd9ec0f8-88b0-45c6-9a2d-49c620fe4a71"
      },
      "source": [
        "confidence_leve_3=0.95\n",
        "alpha_3=1-confidence_leve_3\n",
        "t_critical_3=t.ppf(1-alpha_3,df=19)\n",
        "print(t_critical_3)\n"
      ],
      "execution_count": 60,
      "outputs": [
        {
          "output_type": "stream",
          "text": [
            "1.729132811521367\n"
          ],
          "name": "stdout"
        }
      ]
    },
    {
      "cell_type": "code",
      "metadata": {
        "colab": {
          "base_uri": "https://localhost:8080/"
        },
        "id": "QKIiDYABAmS6",
        "outputId": "481a0170-0351-455c-a667-86b2fa287330"
      },
      "source": [
        "standard_deviation(l_3)"
      ],
      "execution_count": 61,
      "outputs": [
        {
          "output_type": "execute_result",
          "data": {
            "text/plain": [
              "0.9724375301272571"
            ]
          },
          "metadata": {
            "tags": []
          },
          "execution_count": 61
        }
      ]
    },
    {
      "cell_type": "code",
      "metadata": {
        "id": "BRswjrWuArXd"
      },
      "source": [
        "sample_size_3=20\n",
        "sample_mean_3=15.130499999999998\n",
        "pop_mean_3=15\n",
        "sample_std_3=0.9724375301272571\n"
      ],
      "execution_count": 62,
      "outputs": []
    },
    {
      "cell_type": "markdown",
      "metadata": {
        "id": "PZrIojHJK9Da"
      },
      "source": [
        "**Calculate t-value**"
      ]
    },
    {
      "cell_type": "code",
      "metadata": {
        "colab": {
          "base_uri": "https://localhost:8080/"
        },
        "id": "q8VL7y9rAttN",
        "outputId": "3503368f-cc1c-454e-9cca-ee36ff43459d"
      },
      "source": [
        "t_3=t_score(sample_mean_3,pop_mean_3,sample_std_3,sample_size_3)\n",
        "print(t_3)"
      ],
      "execution_count": 22,
      "outputs": [
        {
          "output_type": "stream",
          "text": [
            "2.7282166542895565\n"
          ],
          "name": "stdout"
        }
      ]
    },
    {
      "cell_type": "markdown",
      "metadata": {
        "id": "mFd0Cvs0LAUX"
      },
      "source": [
        "**PLotting the graph**"
      ]
    },
    {
      "cell_type": "code",
      "metadata": {
        "colab": {
          "base_uri": "https://localhost:8080/",
          "height": 282
        },
        "id": "t6VWYxAPAwXz",
        "outputId": "8c2a1e37-ef82-4c0b-f624-16ce46edc7c7"
      },
      "source": [
        "\n",
        "x_min_3=13\n",
        "x_max_3=17\n",
        "\n",
        "mean_3=pop_mean_3\n",
        "std_3=sample_std_3/(sample_size_3**0.5)\n",
        "\n",
        "x_3=np.linspace(x_min_3,x_max_3,100)\n",
        "y_3=norm.pdf(x_3,mean_3,std_3)\n",
        "\n",
        "plt.xlim(x_min_3,x_max_3)\n",
        "plt.plot(x_3,y_3)\n",
        "\n",
        "t_critical_right_3=pop_mean_3+(t_critical_3*std_3)\n",
        "\n",
        "x3=np.linspace(t_critical_right_3,x_max_3,100)\n",
        "y3=norm.pdf(x3,mean_3,std_3)\n",
        "plt.fill_between(x3,y3,color='orange')\n",
        "\n",
        "plt.scatter(sample_mean_3,0)\n",
        "plt.annotate(\"x_bar\",(sample_mean_3,0.1))"
      ],
      "execution_count": 63,
      "outputs": [
        {
          "output_type": "execute_result",
          "data": {
            "text/plain": [
              "Text(15.130499999999998, 0.1, 'x_bar')"
            ]
          },
          "metadata": {
            "tags": []
          },
          "execution_count": 63
        },
        {
          "output_type": "display_data",
          "data": {
            "image/png": "[encoded data removed]",
            "text/plain": [
              "<Figure size 432x288 with 1 Axes>"
            ]
          },
          "metadata": {
            "tags": [],
            "needs_background": "light"
          }
        }
      ]
    },
    {
      "cell_type": "code",
      "metadata": {
        "colab": {
          "base_uri": "https://localhost:8080/"
        },
        "id": "dwyzztSlAy1J",
        "outputId": "a6c9ae38-db30-4439-e307-9b86fa7e4bfe"
      },
      "source": [
        "if (t_3> t_critical_3):\n",
        "    print(\"Reject the Null Hypothesis\")\n",
        "else:\n",
        "    print(\"Fail to reject the Null Hypothesis\")"
      ],
      "execution_count": 64,
      "outputs": [
        {
          "output_type": "stream",
          "text": [
            "Reject the Null Hypothesis\n"
          ],
          "name": "stdout"
        }
      ]
    },
    {
      "cell_type": "markdown",
      "metadata": {
        "id": "5RYxZnKDLEcP"
      },
      "source": [
        "**Calculate p-value**|"
      ]
    },
    {
      "cell_type": "code",
      "metadata": {
        "colab": {
          "base_uri": "https://localhost:8080/"
        },
        "id": "i30XMsY-LHsF",
        "outputId": "4aee6f5b-57b4-4226-9e08-485ef7a411c8"
      },
      "source": [
        "p_value = 2 * (1.0 - norm.cdf(abs(t_3)))\n",
        "\n",
        "print(\"p_value = \", p_value)\n",
        "\n",
        "if(p_value < alpha):\n",
        "    print(\"Reject Null Hypothesis\")\n",
        "else:\n",
        "    print(\"Fail to reject Null Hypothesis\")"
      ],
      "execution_count": 65,
      "outputs": [
        {
          "output_type": "stream",
          "text": [
            "p_value =  0.006367776985112927\n",
            "Reject Null Hypothesis\n"
          ],
          "name": "stdout"
        }
      ]
    },
    {
      "cell_type": "markdown",
      "metadata": {
        "id": "VUuLnDUwLRWF"
      },
      "source": [
        "Q-4: You have developed a new Machine Learning Application and claim that on average it takes less than 100 ms to predict for any future datapoint. How do you convince your client about this claim? (Based on past data you know that the std is 10 ms)"
      ]
    },
    {
      "cell_type": "code",
      "metadata": {
        "colab": {
          "base_uri": "https://localhost:8080/"
        },
        "id": "CAxq-EgVA1wm",
        "outputId": "45cefd6f-dc80-4513-9c41-d62754e1b5c6"
      },
      "source": [
        "from numpy import random\n",
        "x=random.randint(95,105, size=(100))\n",
        "l_4=list(x)\n",
        "l_4[:20]"
      ],
      "execution_count": 25,
      "outputs": [
        {
          "output_type": "execute_result",
          "data": {
            "text/plain": [
              "[100,\n",
              " 95,\n",
              " 97,\n",
              " 95,\n",
              " 103,\n",
              " 96,\n",
              " 97,\n",
              " 104,\n",
              " 104,\n",
              " 99,\n",
              " 101,\n",
              " 95,\n",
              " 99,\n",
              " 104,\n",
              " 95,\n",
              " 101,\n",
              " 101,\n",
              " 104,\n",
              " 99,\n",
              " 98]"
            ]
          },
          "metadata": {
            "tags": []
          },
          "execution_count": 25
        }
      ]
    },
    {
      "cell_type": "code",
      "metadata": {
        "colab": {
          "base_uri": "https://localhost:8080/"
        },
        "id": "23cKYmoSA4TP",
        "outputId": "8ed5b0ad-bbcb-4200-be32-d5e6feaaec9e"
      },
      "source": [
        "sum(l_4)/len(l_4)"
      ],
      "execution_count": 26,
      "outputs": [
        {
          "output_type": "execute_result",
          "data": {
            "text/plain": [
              "99.89"
            ]
          },
          "metadata": {
            "tags": []
          },
          "execution_count": 26
        }
      ]
    },
    {
      "cell_type": "code",
      "metadata": {
        "colab": {
          "base_uri": "https://localhost:8080/"
        },
        "id": "4JraqYgeA7-k",
        "outputId": "313c6840-2e22-4895-9413-ad0eb57aabec"
      },
      "source": [
        "confidence_leve_4=0.99\n",
        "alpha_4=1-confidence_leve_4\n",
        "t_critical_4=t.ppf(1-alpha_4,df=99)\n",
        "print(t_critical_4)\n"
      ],
      "execution_count": 27,
      "outputs": [
        {
          "output_type": "stream",
          "text": [
            "2.3646058614359737\n"
          ],
          "name": "stdout"
        }
      ]
    },
    {
      "cell_type": "code",
      "metadata": {
        "colab": {
          "base_uri": "https://localhost:8080/"
        },
        "id": "Gi8b3M-3A-VA",
        "outputId": "5123ffb8-5fa6-4c99-abb0-5eff0b4548d2"
      },
      "source": [
        "standard_deviation(l_4)"
      ],
      "execution_count": 28,
      "outputs": [
        {
          "output_type": "execute_result",
          "data": {
            "text/plain": [
              "2.921968514546314"
            ]
          },
          "metadata": {
            "tags": []
          },
          "execution_count": 28
        }
      ]
    },
    {
      "cell_type": "code",
      "metadata": {
        "id": "Fhf91zUVBAEA"
      },
      "source": [
        "sample_size_4=100\n",
        "sample_mean_4=99.25\n",
        "pop_mean_4=100\n",
        "sample_std_4=2.7472713735632306"
      ],
      "execution_count": 29,
      "outputs": []
    },
    {
      "cell_type": "markdown",
      "metadata": {
        "id": "6Wpt8H6pL-00"
      },
      "source": [
        "**Calculate the t-score value**"
      ]
    },
    {
      "cell_type": "code",
      "metadata": {
        "colab": {
          "base_uri": "https://localhost:8080/"
        },
        "id": "bRm8VMzeBCGz",
        "outputId": "20e183c5-584e-4e74-b749-12237416be8c"
      },
      "source": [
        "t_4=t_score(sample_mean_4,pop_mean_4,sample_std_4,sample_size_4)\n",
        "print(t_4)"
      ],
      "execution_count": 66,
      "outputs": [
        {
          "output_type": "stream",
          "text": [
            "9.688734450947502\n"
          ],
          "name": "stdout"
        }
      ]
    },
    {
      "cell_type": "markdown",
      "metadata": {
        "id": "AJjCsmylMCr8"
      },
      "source": [
        "**PLotting the graph**"
      ]
    },
    {
      "cell_type": "code",
      "metadata": {
        "colab": {
          "base_uri": "https://localhost:8080/",
          "height": 282
        },
        "id": "yQb6V9lLBEmI",
        "outputId": "0ea3e9e0-e2a6-48e9-b9d6-62007ba73951"
      },
      "source": [
        "\n",
        "x_min_4=95\n",
        "x_max_4=105\n",
        "\n",
        "mean_4=pop_mean_4\n",
        "std_4=sample_std_4/(sample_size_4**0.5)\n",
        "\n",
        "x4=np.linspace(x_min_4,x_max_4,100)\n",
        "y4=norm.pdf(x4,mean_4,std_4)\n",
        "\n",
        "plt.xlim(x_min_4,x_max_4)\n",
        "plt.plot(x4,y4)\n",
        "\n",
        "t_critical_left_4=pop_mean_4+(-t_critical_4*std)\n",
        "\n",
        "x4=np.linspace(x_min_4,t_critical_left_4,100)\n",
        "y4=norm.pdf(x4,mean_4,std_4)\n",
        "plt.fill_between(x4,y4,color='orange')\n",
        "\n",
        "plt.scatter(sample_mean_4,0)\n",
        "plt.annotate(\"x_bar\",(sample_mean_4,0.02))"
      ],
      "execution_count": 67,
      "outputs": [
        {
          "output_type": "execute_result",
          "data": {
            "text/plain": [
              "Text(99.25, 0.02, 'x_bar')"
            ]
          },
          "metadata": {
            "tags": []
          },
          "execution_count": 67
        },
        {
          "output_type": "display_data",
          "data": {
            "image/png": "[encoded data removed]",
            "text/plain": [
              "<Figure size 432x288 with 1 Axes>"
            ]
          },
          "metadata": {
            "tags": [],
            "needs_background": "light"
          }
        }
      ]
    },
    {
      "cell_type": "code",
      "metadata": {
        "colab": {
          "base_uri": "https://localhost:8080/"
        },
        "id": "HNLpswkyBHra",
        "outputId": "59fca340-f888-4f15-d58e-71e54e947865"
      },
      "source": [
        "\n",
        "if(t_4<t_critical_4):\n",
        "    print(\"Reject Null Hypothesis\")\n",
        "else:\n",
        "    print(\"Fail to reject the Null Hypothesis\")"
      ],
      "execution_count": 68,
      "outputs": [
        {
          "output_type": "stream",
          "text": [
            "Fail to reject the Null Hypothesis\n"
          ],
          "name": "stdout"
        }
      ]
    },
    {
      "cell_type": "markdown",
      "metadata": {
        "id": "7rp6OJBNMIT2"
      },
      "source": [
        "**Calculate p-value**"
      ]
    },
    {
      "cell_type": "code",
      "metadata": {
        "colab": {
          "base_uri": "https://localhost:8080/"
        },
        "id": "lygH_WvHLWLx",
        "outputId": "a3e03f2b-ec4d-42d4-8dbb-2c2240b53d36"
      },
      "source": [
        "p_value = 2 * (1.0 - norm.cdf(abs(t_4)))\n",
        "\n",
        "print(\"p_value = \", p_value)\n",
        "\n",
        "if(p_value < alpha):\n",
        "    print(\"Reject Null Hypothesis\")\n",
        "else:\n",
        "    print(\"Fail to reject Null Hypothesis\")"
      ],
      "execution_count": 69,
      "outputs": [
        {
          "output_type": "stream",
          "text": [
            "p_value =  0.0\n",
            "Reject Null Hypothesis\n"
          ],
          "name": "stdout"
        }
      ]
    },
    {
      "cell_type": "code",
      "metadata": {
        "id": "nLu7zeIeMKGj"
      },
      "source": [
        ""
      ],
      "execution_count": null,
      "outputs": []
    }
  ]
}