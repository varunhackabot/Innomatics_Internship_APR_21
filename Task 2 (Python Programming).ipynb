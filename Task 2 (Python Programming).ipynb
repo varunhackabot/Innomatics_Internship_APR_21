{
  "nbformat": 4,
  "nbformat_minor": 0,
  "metadata": {
    "colab": {
      "name": "Task - 2 (Python Programming).ipynb",
      "provenance": []
    },
    "kernelspec": {
      "name": "python3",
      "display_name": "Python 3"
    },
    "language_info": {
      "name": "python"
    }
  },
  "cells": [
    {
      "cell_type": "code",
      "metadata": {
        "id": "3P71fop2sGcj"
      },
      "source": [
        "#NESTED LIST\n",
        "\n",
        "#SOLUTION\n",
        "\n",
        "if __name__ == '__main__':\n",
        "    a = []\n",
        "    b = []\n",
        "    for _ in range(int(input())):\n",
        "        name = input()\n",
        "        score = float(input())\n",
        "        a.append([name,score])\n",
        "        b.append(score)\n",
        "    c = set(b)\n",
        "    d = sorted(c)[1]\n",
        "    e = []\n",
        "    for name,score in a:\n",
        "        if d==score:\n",
        "            e.append(name)\n",
        "    f = sorted(e)\n",
        "    for i in f:\n",
        "        print(i,end='\\n')\n",
        "            "
      ],
      "execution_count": null,
      "outputs": []
    },
    {
      "cell_type": "code",
      "metadata": {
        "id": "xeK5RJA5sM7C"
      },
      "source": [
        "# FINDING THE PERCENTAGE\n",
        "\n",
        "#SOLUTION\n",
        "if __name__ == '__main__':\n",
        "    n = int(input())\n",
        "    student_marks = {}\n",
        "    for _ in range(n):\n",
        "        name, *line = input().split()\n",
        "        scores = list(map(float, line))\n",
        "        student_marks[name] = scores\n",
        "    query_name = input()\n",
        "    if query_name == name:\n",
        "        a = sum(scores)/len(scores)\n",
        "        print(\"{0:.2f}\".format(a))"
      ],
      "execution_count": null,
      "outputs": []
    },
    {
      "cell_type": "code",
      "metadata": {
        "id": "0seVQh1Gs-LT"
      },
      "source": [
        "#LIST COMPREHENSION\n",
        "\n",
        "#SOLUTION\n",
        "if __name__ == '__main__':\n",
        "    x = int(input())\n",
        "    y = int(input())\n",
        "    z = int(input())\n",
        "    n = int(input())\n",
        "    print([[i,j,k] for i in range(0,x+1) for j in range(0,y+1) for k in range(0,z+1) if i+j+k!=n])"
      ],
      "execution_count": null,
      "outputs": []
    },
    {
      "cell_type": "code",
      "metadata": {
        "id": "xulUtOflt1yE"
      },
      "source": [
        "#FIND THE RUNNER-UP SCORE\n",
        "\n",
        "#SOLUTION\n",
        "if __name__ == '__main__':\n",
        "    n = int(input())\n",
        "    l = s = -10\n",
        "    a = [int(x) for x in input().split()]\n",
        "    for i in a:\n",
        "        if i>l:\n",
        "            temp = l\n",
        "            l = i\n",
        "            s = temp\n",
        "        if i>s and i!=l:\n",
        "            s=i\n",
        "    print(s)"
      ],
      "execution_count": null,
      "outputs": []
    },
    {
      "cell_type": "code",
      "metadata": {
        "id": "NZiLYLGuuawh"
      },
      "source": [
        "# TUPLES\n",
        "#SOLUTION\n",
        "if __name__ == '__main__':\n",
        "    n = int(input())\n",
        "    l =0\n",
        "    integer_list = map(int, input().split())\n",
        "    a = tuple(integer_list)\n",
        "    b = hash(a)\n",
        "    print(b)\n"
      ],
      "execution_count": null,
      "outputs": []
    },
    {
      "cell_type": "code",
      "metadata": {
        "id": "BfO8gNId0Sb3"
      },
      "source": [
        "# INTRODUCTION TO SETS\n",
        "#SOLUTION\n",
        "def average(array):\n",
        "    a = set(array)\n",
        "    n = len(a)\n",
        "    b = sum(a)\n",
        "    c = b/n\n",
        "    return c\n",
        "if __name__ == '__main__':\n",
        "    n = int(input())\n",
        "    arr = list(map(int, input().split()))\n",
        "    result = average(arr)\n",
        "    print(result)"
      ],
      "execution_count": null,
      "outputs": []
    },
    {
      "cell_type": "code",
      "metadata": {
        "id": "-OL2_y7N2441"
      },
      "source": [
        "#SET.ADD()\n",
        "#SOLUTION\n",
        "a = input()\n",
        "b = set()\n",
        "for i in range(int(a)):\n",
        "    b.add(input(\"\"))\n",
        "print(len(b))"
      ],
      "execution_count": null,
      "outputs": []
    },
    {
      "cell_type": "code",
      "metadata": {
        "id": "sRqCTRsX51wV"
      },
      "source": [
        "#SYMMETRIC DIFFERENCE\n",
        "#SOLUTION\n",
        "m = int(input())\n",
        "x = input()\n",
        "n = int(input())\n",
        "y = input()\n",
        "a = set(list(map(int,x.split())))\n",
        "b = set(list(map(int,y.split())))\n",
        "c = b.difference(a)\n",
        "d = a.difference(b)\n",
        "e = d.union(c)\n",
        "f = sorted(e)\n",
        "for i in range(len(f)):\n",
        "    print(f[i])"
      ],
      "execution_count": null,
      "outputs": []
    },
    {
      "cell_type": "code",
      "metadata": {
        "id": "MUGCIqZp-Fa5"
      },
      "source": [
        "#Set.discard(),.remove()&.pop()\n",
        "#SOLUTION\n",
        "n=int(input())\n",
        "s = set(map(int,input().split()))\n",
        "a = int(input())\n",
        "for i in range(a):\n",
        "    b=input().split()\n",
        "    if b[0]=='remove':\n",
        "        s.remove(int(b[1]))\n",
        "    elif b[0]=='discard':\n",
        "        s.discard(int(b[1]))\n",
        "    elif b[0]=='pop':\n",
        "        s.pop()\n",
        "print(sum(s))\n",
        "        "
      ],
      "execution_count": null,
      "outputs": []
    },
    {
      "cell_type": "code",
      "metadata": {
        "id": "iz6yb617DtIs"
      },
      "source": [
        "#SET.UNION()\n",
        "#SOLUTION\n",
        "a = int(input())\n",
        "b = input()\n",
        "c = int(input())\n",
        "d = input()\n",
        "e = set(list(map(int,b.split())))\n",
        "f = set(list(map(int,d.split())))\n",
        "g = e.union(f)\n",
        "print(len(g))"
      ],
      "execution_count": null,
      "outputs": []
    },
    {
      "cell_type": "code",
      "metadata": {
        "id": "zV993SayFoPQ"
      },
      "source": [
        "#SET.INTERSECTION()\n",
        "#SOLUTION\n",
        "a = int(input())\n",
        "b = input()\n",
        "c = int(input())\n",
        "d = input()\n",
        "e = set(list(map(int,b.split())))\n",
        "f = set(list(map(int,d.split())))\n",
        "g = e.intersection(f)\n",
        "print(len(g))"
      ],
      "execution_count": null,
      "outputs": []
    },
    {
      "cell_type": "code",
      "metadata": {
        "id": "tgd63n-NGFb0"
      },
      "source": [
        "#SET.DIFFERENCE()\n",
        "#SOLUTION\n",
        "a = int(input())\n",
        "b = input()\n",
        "c = int(input())\n",
        "d = input()\n",
        "e = set(list(map(int,b.split())))\n",
        "f = set(list(map(int,d.split())))\n",
        "g = e.difference(f)\n",
        "print(len(g))"
      ],
      "execution_count": null,
      "outputs": []
    },
    {
      "cell_type": "code",
      "metadata": {
        "id": "E-AHH3zFGXOy"
      },
      "source": [
        "#SYMMETRIC_DIFFERENCE()\n",
        "#SOLUTION\n",
        "a = int(input())\n",
        "b = input()\n",
        "c = int(input())\n",
        "d = input()\n",
        "e = set(list(map(int,b.split())))\n",
        "f = set(list(map(int,d.split())))\n",
        "g = e.symmetric_difference(f)\n",
        "print(len(g))"
      ],
      "execution_count": null,
      "outputs": []
    },
    {
      "cell_type": "code",
      "metadata": {
        "id": "G1pXOEmMG2Wh"
      },
      "source": [
        "#CHECK SUBSET\n",
        "#SOLUTION\n",
        "\n",
        "for i in range(int(input())):\n",
        "    a = int(input())\n",
        "    b = input()\n",
        "    c = int(input())\n",
        "    d = input()\n",
        "    e = set(list(map(int,b.split())))\n",
        "    f = set(list(map(int,d.split())))\n",
        "    if(f.intersection(e)==e):\n",
        "        print(True)\n",
        "    else:\n",
        "        print(False)"
      ],
      "execution_count": null,
      "outputs": []
    },
    {
      "cell_type": "code",
      "metadata": {
        "id": "enSi6CEcTOkb"
      },
      "source": [
        "#SET MUTATION\n",
        "#SOLUTION\n",
        "\n",
        "a = int(input())\n",
        "b = set(map(int, input().split()))\n",
        "c = int(input())\n",
        "for i in range(c):\n",
        "    d, i = input().split()\n",
        "    e = set(map(int, input().split()))\n",
        "    if(d == \"update\"):\n",
        "        b.update(e)\n",
        "    elif(d == \"intersection_update\"):\n",
        "        b.intersection_update(e)\n",
        "    elif(d == \"difference_update\"):\n",
        "        b.difference_update(e)\n",
        "    elif(d == \"symmetric_difference_update\"):\n",
        "        b.symmetric_difference_update(e)\n",
        "print(sum(b))\n",
        "\n",
        "\n"
      ],
      "execution_count": null,
      "outputs": []
    },
    {
      "cell_type": "code",
      "metadata": {
        "id": "ZV2zt4SrhnED"
      },
      "source": [
        "#CHECK STRING SUPERSET\n",
        "#SOLUTION\n",
        "\n",
        "a = set(input().split())\n",
        "b = int(input())\n",
        "occurance = 0\n",
        "for i in range(b):\n",
        "    c = set(input().split())\n",
        "    if a.issuperset(c):\n",
        "        occurance+=1\n",
        "if(occurance==a):\n",
        "    print(True)\n",
        "else:\n",
        "    print(False)\n",
        "\n"
      ],
      "execution_count": null,
      "outputs": []
    },
    {
      "cell_type": "code",
      "metadata": {
        "id": "7GmvK6S_mIdG"
      },
      "source": [
        "#THE CAPTAIN'S ROOM\n",
        "#SOLUTION\n",
        "\n",
        "a = input()\n",
        "b = input()\n",
        "l = b.split()\n",
        "c = set()\n",
        "d = set()\n",
        "for i in l:\n",
        "    if i in a:\n",
        "        d.add(i)\n",
        "    elif i not in a:\n",
        "        c.add(i)\n",
        "e = c.difference(d)\n",
        "print(list(e)[0])\n"
      ],
      "execution_count": null,
      "outputs": []
    },
    {
      "cell_type": "code",
      "metadata": {
        "id": "SV9HWAx6IApR"
      },
      "source": [
        "#LIST\n",
        "\n",
        "#SOLUTION\n",
        "if __name__ == '__main__':\n",
        "    N = int(input())\n",
        "    q = []\n",
        "    for i in range(N):\n",
        "        a = list(input().split())\n",
        "        if a[0] == \"insert\":\n",
        "            q.insert((int(a[1])),int(a[2]))\n",
        "        elif a[0] == \"append\":\n",
        "            q.append(int(a[1]))\n",
        "        elif a[0] == \"pop\":\n",
        "            q.pop()\n",
        "        elif a[0] == \"reverse\":\n",
        "            q.reverse()\n",
        "        elif a[0]==\"count\":\n",
        "            b=q.count(int(a[1]))\n",
        "            print(v)\n",
        "        elif a[0] == \"sort\":\n",
        "            q.sort()\n",
        "        elif a[0]==\"index\":\n",
        "            c=q.index(int(a[1]))\n",
        "            print(c)\n",
        "        elif a[0] == \"remove\":\n",
        "            q.remove(int(a[1]))\n",
        "        elif a[0] == \"print\":\n",
        "            print(q)"
      ],
      "execution_count": null,
      "outputs": []
    },
    {
      "cell_type": "code",
      "metadata": {
        "id": "hR89nqnOV-6v"
      },
      "source": [
        "#NO IDEA\n",
        "\n",
        "#SOLUTION\n",
        "\n",
        "a,b = input().split()\n",
        "c = input().split()\n",
        "set_1 = set(input().split())\n",
        "set_2 = set(input().split())\n",
        "d = 0\n",
        "for i in c:\n",
        "    if i in set_1:\n",
        "        d+=1    \n",
        "    if i in set_2:\n",
        "        d-=1\n",
        "print(d)  "
      ],
      "execution_count": null,
      "outputs": []
    }
  ]
}
