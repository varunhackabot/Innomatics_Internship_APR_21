{
  "nbformat": 4,
  "nbformat_minor": 0,
  "metadata": {
    "colab": {
      "name": "Task-6(Python Programming).ipynb",
      "provenance": []
    },
    "kernelspec": {
      "name": "python3",
      "display_name": "Python 3"
    },
    "language_info": {
      "name": "python"
    }
  },
  "cells": [
    {
      "cell_type": "code",
      "metadata": {
        "id": "DJhUW5V46xtl"
      },
      "source": [
        "#LINEAR ALGEBRA\n",
        "#SOLUTION\n",
        "import numpy as np\n",
        "n=int(input())\n",
        "a = []\n",
        "for i in range(n):\n",
        "  a.append(input().split())\n",
        "b=np.array(a,float)\n",
        "np.set_printoptions(legacy='1.13')\n",
        "print(np.linalg.det(b))"
      ],
      "execution_count": null,
      "outputs": []
    },
    {
      "cell_type": "code",
      "metadata": {
        "id": "8KgtLHsq7L14"
      },
      "source": [
        "#TRANSPOSE AND FLATTEN\n",
        "#SOLUTION\n",
        "import numpy as np\n",
        "a,b = input().split()\n",
        "c = np.array(input().split(),int)\n",
        "d = np.array(input().split(),int)\n",
        "g = np.array([c,d])\n",
        "e = np.transpose(g)\n",
        "f = g.flatten()\n",
        "print(e)\n",
        "print(f)\n",
        "    "
      ],
      "execution_count": null,
      "outputs": []
    },
    {
      "cell_type": "code",
      "metadata": {
        "id": "J6779_Z37VJY"
      },
      "source": [
        "#ARRAYS\n",
        "#SOLUTION\n",
        "import numpy\n",
        "\n",
        "def arrays(arr):\n",
        "    n = (len(arr)-1)\n",
        "    j = 0\n",
        "    reverse = []\n",
        "    for i in range(0,n):\n",
        "        reverse[i] = arr[n-i]\n",
        "    print(reverse)        \n",
        "\n",
        "arr = input().strip().split(' ')\n",
        "result = arrays(arr)\n",
        "print(result)\n"
      ],
      "execution_count": null,
      "outputs": []
    },
    {
      "cell_type": "code",
      "metadata": {
        "id": "zpJYcUCr7kuj"
      },
      "source": [
        "#SHAPE AND RESHAPE\n",
        "#SOLUTION\n",
        "import numpy as np\n",
        "a = np.array(input().split(),int)\n",
        "b = np.reshape(a,(3,3))\n",
        "print(b)\n"
      ],
      "execution_count": null,
      "outputs": []
    },
    {
      "cell_type": "code",
      "metadata": {
        "id": "wBdEBDHL71Ou"
      },
      "source": [
        "#CONCATENATE\n",
        "#SOLUTION\n",
        "import numpy as np\n",
        "n,m,p = map(int,input().split())\n",
        "arr_1 = np.array([input().split() for _ in range(n)],int)\n",
        "arr_2 = np.array([input().split() for _ in range(m)],int)\n",
        "arr_result = np.concatenate((arr_1,arr_2),axis=0)\n",
        "print(arr_result)\n"
      ],
      "execution_count": null,
      "outputs": []
    },
    {
      "cell_type": "code",
      "metadata": {
        "id": "YUA9hTom8H66"
      },
      "source": [
        "#ZEROS AND ONES\n",
        "#SOLUTION\n",
        "import numpy as np\n",
        "a = tuple(map(int,input().split()))\n",
        "d = np.zeros((a),dtype=np.int)\n",
        "print(d)\n",
        "e = np.ones((a),dtype=np.int)\n",
        "print(e)\n"
      ],
      "execution_count": null,
      "outputs": []
    },
    {
      "cell_type": "code",
      "metadata": {
        "id": "LYL-Gxun8XbJ"
      },
      "source": [
        "#EYE AND IDENTITY\n",
        "#SOLUTION\n",
        "import numpy as np\n",
        "a,b = map(int,input().split())\n",
        "c = np.eye(a,b)\n",
        "np.set_printoptions(legacy='1.13')\n",
        "print(c)"
      ],
      "execution_count": null,
      "outputs": []
    },
    {
      "cell_type": "code",
      "metadata": {
        "id": "NDLbypOn8l82"
      },
      "source": [
        "#ARRAY MATHEMATICS\n",
        "#SOLUTION\n",
        "import numpy as np\n",
        "a,b = (map(int,input().split()))\n",
        "c = np.zeros((a,b),int)\n",
        "d = np.zeros((a,b),int)\n",
        "for i in range(a):\n",
        "    c[i] = np.array(input().split(),int)\n",
        "for j in range(a):\n",
        "    d[i] = np.array(input().split(),int)\n",
        "e = np.add(c,d)\n",
        "f = np.subtract(c,d)\n",
        "g = np.multiply(c,d)\n",
        "h = c//d\n",
        "i = np.mod(c,d)\n",
        "j = np.power(c,d)\n",
        "print(e,f,g,h,i,j,sep='\\n')\n",
        "\n"
      ],
      "execution_count": null,
      "outputs": []
    },
    {
      "cell_type": "code",
      "metadata": {
        "id": "GUvWuQMk8vSC"
      },
      "source": [
        "#FLOOR CEIL AND RINT\n",
        "#SOLUTION\n",
        "import numpy as np\n",
        "a = input().split()\n",
        "np.set_printoptions(sign=' ')\n",
        "b = np.array(a,dtype=np.float)\n",
        "print(np.floor(b))\n",
        "print(np.ceil(b))\n",
        "print(np.rint(b))\n",
        "\n"
      ],
      "execution_count": null,
      "outputs": []
    },
    {
      "cell_type": "code",
      "metadata": {
        "id": "ppgRQnak88Sv"
      },
      "source": [
        "#SUM AND PROD\n",
        "#SOLUTION\n",
        "import numpy as np\n",
        "n,m = map(int,input().split())\n",
        "a = [input().split() for i in range(n)]\n",
        "b = np.array([a],int)\n",
        "c = np.prod(np.sum(b,axis=0),axis=0)\n",
        "print(np.prod(c))\n",
        "\n"
      ],
      "execution_count": null,
      "outputs": []
    },
    {
      "cell_type": "code",
      "metadata": {
        "id": "7P992tSe9H_v"
      },
      "source": [
        "#MIN AND MAX\n",
        "#SOLUTION\n",
        "import numpy as np \n",
        "n,m = map(int,input().split())\n",
        "a = []\n",
        "for i in range(n):\n",
        "    a.append(input().split())\n",
        "b = np.array(a,int)\n",
        "c = np.min(b,axis=1)\n",
        "d = np.max(c)\n",
        "print(d)\n",
        "\n"
      ],
      "execution_count": null,
      "outputs": []
    },
    {
      "cell_type": "code",
      "metadata": {
        "id": "xILmpzWh9X_9"
      },
      "source": [
        "#MEAN,VAR AND STD\n",
        "#SOLUTION\n",
        "import numpy as np\n",
        "n,m = map(int,input().split())\n",
        "a = []\n",
        "for  i in range(n):\n",
        "    a.append(input().split())\n",
        "b = np.array(a,int)\n",
        "print(np.mean(b,axis=1))\n",
        "print(np.var(b,axis=0))\n",
        "np.set_printoptions(legacy='1.13')\n",
        "print(np.std(b,axis=None))"
      ],
      "execution_count": null,
      "outputs": []
    },
    {
      "cell_type": "code",
      "metadata": {
        "id": "GPNPFqnU-ZI0"
      },
      "source": [
        "#DOT AND CROSS\n",
        "#SOLUTION\n",
        "import numpy as np\n",
        "a = int(input())\n",
        "arr1=np.array([list(map(int,input().split())) for _ in range(a)])\n",
        "arr2 = np.array([list(map(int,input().split())) for _ in range(a)])\n",
        "b = np.dot(arr1,arr2)\n",
        "print(b)\n"
      ],
      "execution_count": null,
      "outputs": []
    },
    {
      "cell_type": "code",
      "metadata": {
        "id": "HNd-NkgM-mbY"
      },
      "source": [
        "#inner and outer\n",
        "#SOLUTION\n",
        "import numpy as np\n",
        "arr1=np.array(input().split(), int)\n",
        "arr2 = np.array(input().split(), int)\n",
        "out = np.outer(arr1,arr2)\n",
        "inn = np.inner(arr1,arr2)\n",
        "print(inn)\n",
        "print(out)\n",
        "\n"
      ],
      "execution_count": null,
      "outputs": []
    },
    {
      "cell_type": "code",
      "metadata": {
        "id": "x2knukXV-qA5"
      },
      "source": [
        "#POLYNOMIALS\n",
        "#SOLUTION\n",
        "import numpy as np\n",
        "n = list(map(float,input().split()));\n",
        "m = input();\n",
        "print(np.polyval(n,int(m)));\n"
      ],
      "execution_count": null,
      "outputs": []
    }
  ]
}