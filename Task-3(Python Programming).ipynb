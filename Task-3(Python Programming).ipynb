{
  "nbformat": 4,
  "nbformat_minor": 0,
  "metadata": {
    "colab": {
      "name": "Task-3(Python Programming).ipynb",
      "provenance": []
    },
    "kernelspec": {
      "name": "python3",
      "display_name": "Python 3"
    },
    "language_info": {
      "name": "python"
    }
  },
  "cells": [
    {
      "cell_type": "code",
      "metadata": {
        "id": "Q4ed_65p8Vav"
      },
      "source": [
        "#POLAR COORDIATES\n",
        "#SOLUTION\n",
        "import cmath as c\n",
        "a = complex(input().strip())\n",
        "print(c.polar(a)[0])\n",
        "print(c.polar(a)[1])\n",
        "\n"
      ],
      "execution_count": null,
      "outputs": []
    },
    {
      "cell_type": "code",
      "metadata": {
        "id": "agKKwiBoWo45"
      },
      "source": [
        "#FIND ANGLE MBC\n",
        "#SOLUTION\n",
        "import math\n",
        "a = float(input())\n",
        "b = float(input())\n",
        "print(int(round(math.degrees(math.atan2(a,b)),0)),chr(176),sep='')\n"
      ],
      "execution_count": null,
      "outputs": []
    },
    {
      "cell_type": "code",
      "metadata": {
        "id": "7_F0LiYzXGr8"
      },
      "source": [
        "#TRIANGLE QUEST 2\n",
        "#SOLUTION\n",
        "for i in range(1,int(input())+1): #More than 2 lines will result in 0 score. Do not leave a blank line also\n",
        "    print(((10**i)//9)**2)"
      ],
      "execution_count": null,
      "outputs": []
    },
    {
      "cell_type": "code",
      "metadata": {
        "id": "ZdoAPhOOXP4x"
      },
      "source": [
        "#MOD DIVMOD\n",
        "#SOLUTION\n",
        "a = int(input())\n",
        "b = int(input())\n",
        "print(a//b)\n",
        "print(a%b)\n",
        "print(divmod(a,b))\n"
      ],
      "execution_count": null,
      "outputs": []
    },
    {
      "cell_type": "code",
      "metadata": {
        "id": "7MKYLPXJXYwF"
      },
      "source": [
        "#POWER MOD POWER\n",
        "#SOLUTION\n",
        "a = int(input())\n",
        "b = int(input())\n",
        "m = int(input())\n",
        "c = pow(a,b)\n",
        "d = pow(a,b,m)\n",
        "print(c)\n",
        "print(d)\n"
      ],
      "execution_count": null,
      "outputs": []
    },
    {
      "cell_type": "code",
      "metadata": {
        "id": "2dhQUiMMXino"
      },
      "source": [
        "#INTEGER COME IN ALL SIZES\n",
        "#SOLUTION\n",
        "a = int(input())\n",
        "b = int(input())\n",
        "c = int(input())\n",
        "d  = int(input())\n",
        "e = pow(a,b)\n",
        "f = pow(c,d)\n",
        "g = e+f\n",
        "print(g)\n"
      ],
      "execution_count": null,
      "outputs": []
    },
    {
      "cell_type": "code",
      "metadata": {
        "id": "x-sx9MEIXvar"
      },
      "source": [
        "#TRIANGLE QUEST\n",
        "#SOLUTION\n",
        "for i in range(1,int(input())):\n",
        "    print([0,1,22,333,4444,55555,666666,7777777,88888888,999999999][i])\n"
      ],
      "execution_count": null,
      "outputs": []
    }
  ]
}