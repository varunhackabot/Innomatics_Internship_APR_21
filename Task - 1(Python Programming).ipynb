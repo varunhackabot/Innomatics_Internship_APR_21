{
  "nbformat": 4,
  "nbformat_minor": 0,
  "metadata": {
    "colab": {
      "name": "Task - 1(Python Programming) .ipynb",
      "provenance": []
    },
    "kernelspec": {
      "name": "python3",
      "display_name": "Python 3"
    },
    "language_info": {
      "name": "python"
    }
  },
  "cells": [
    {
      "cell_type": "code",
      "metadata": {
        "id": "5QftcTReYVAo"
      },
      "source": [
        "# PROBLEM 1\n",
        "# Say \"Hello, World!\" With Python\n",
        "\n",
        "#SOLUTION\n",
        "print(\"Hello, World!\")\n"
      ],
      "execution_count": 1,
      "outputs": []
    },
    {
      "cell_type": "code",
      "metadata": {
        "id": "tbOHrH_Mzyu5"
      },
      "source": [
        "# PROBLEM 2\n",
        "# Python If-Else\n",
        "\n",
        "#SOLUTION\n",
        "#!/bin/python3\n",
        "\n",
        "import math\n",
        "import os\n",
        "import random\n",
        "import re\n",
        "import sys\n",
        "\n",
        "\n",
        "\n",
        "if __name__ == '__main__':\n",
        "    n = int(input().strip())\n",
        "    if n%2==0:\n",
        "        if n in range(2,5):\n",
        "            print(\"Not Weird\")\n",
        "        if n in range(6,21):\n",
        "            print(\"Weird\")\n",
        "        if n>20:\n",
        "            print(\"Not Weird\")\n",
        "    if n%2!=0:\n",
        "        print(\"Weird\")"
      ],
      "execution_count": null,
      "outputs": []
    },
    {
      "cell_type": "code",
      "metadata": {
        "id": "5ec3aO4GZRnz"
      },
      "source": [
        "#PROBLEM 3\n",
        "#Arithmetic Operators\n",
        "\n",
        "#SOLUTION\n",
        "if __name__ == '__main__':\n",
        "    a = int(input())\n",
        "    b = int(input())\n",
        "    c = a+b\n",
        "    d = a-b\n",
        "    e = a*b\n",
        "    print(c)\n",
        "    print(d)\n",
        "    print(e)\n"
      ],
      "execution_count": null,
      "outputs": []
    },
    {
      "cell_type": "code",
      "metadata": {
        "id": "iA09dXDsxW_W"
      },
      "source": [
        "#PROBLEM 4\n",
        "\n",
        "#DIVISION\n",
        "\n",
        "#SOLUTION\n",
        "\n",
        "if __name__ == '__main__':\n",
        "    a = int(input())\n",
        "    b = int(input())\n",
        "    c = a/b\n",
        "    d = a//b\n",
        "    print(d)\n",
        "    print(c)"
      ],
      "execution_count": null,
      "outputs": []
    },
    {
      "cell_type": "code",
      "metadata": {
        "id": "X9GJmfhsxo0l"
      },
      "source": [
        "#PROBLEM 5\n",
        "\n",
        "#LOOPS\n",
        "\n",
        "#SOLUTION\n",
        "if __name__ == '__main__':\n",
        "    n = int(input())\n",
        "    a = 0\n",
        "    for i in range(0,n):\n",
        "        a = i*i\n",
        "        print(a)\n",
        "        "
      ],
      "execution_count": null,
      "outputs": []
    },
    {
      "cell_type": "code",
      "metadata": {
        "id": "aEOvBsZLx6Uf"
      },
      "source": [
        "#PROBLEM 6\n",
        "\n",
        "# WRITE A FUNCTION\n",
        "#SOLUTION\n",
        "def is_leap(year):\n",
        "    if(year%4==0):\n",
        "        if(year%100==0):\n",
        "            if(year%400==0):\n",
        "                return True\n",
        "            else:\n",
        "                return False\n",
        "        else:\n",
        "            return True\n",
        "    else:\n",
        "        return False\n",
        "            \n",
        "                \n",
        "\n",
        "year = int(input())\n",
        "print(is_leap(year))"
      ],
      "execution_count": null,
      "outputs": []
    },
    {
      "cell_type": "code",
      "metadata": {
        "id": "4eB7Cz1Fycse"
      },
      "source": [
        "#PROBLEM 7\n",
        "\n",
        "#PRINT FUNCTION\n",
        "\n",
        "#SOLUTION\n",
        "if __name__ == '__main__':\n",
        "    n = int(input())\n",
        "    a = []\n",
        "    for i in range(1,n+1):\n",
        "        print(i,end=\"\")\n"
      ],
      "execution_count": null,
      "outputs": []
    }
  ]
}