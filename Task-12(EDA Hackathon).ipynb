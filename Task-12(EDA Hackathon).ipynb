{
  "nbformat": 4,
  "nbformat_minor": 0,
  "metadata": {
    "colab": {
      "name": "Task-12(EDA Hackathon).ipynb",
      "provenance": []
    },
    "kernelspec": {
      "name": "python3",
      "display_name": "Python 3"
    },
    "language_info": {
      "name": "python"
    }
  },
  "cells": [
    {
      "cell_type": "code",
      "metadata": {
        "id": "WoazkqiuGNjc"
      },
      "source": [
        "import numpy as np\n",
        "import pandas as pd\n",
        "import matplotlib.pyplot as plt\n",
        "import seaborn as sns\n",
        "%matplotlib inline"
      ],
      "execution_count": 1,
      "outputs": []
    },
    {
      "cell_type": "code",
      "metadata": {
        "colab": {
          "base_uri": "https://localhost:8080/"
        },
        "id": "-i73G9E-GZH9",
        "outputId": "a5cea1f6-da77-4799-c768-5a7707f826bb"
      },
      "source": [
        "from google.colab import drive\n",
        "drive.mount('/content/drive')"
      ],
      "execution_count": 2,
      "outputs": [
        {
          "output_type": "stream",
          "text": [
            "Mounted at /content/drive\n"
          ],
          "name": "stdout"
        }
      ]
    },
    {
      "cell_type": "code",
      "metadata": {
        "id": "0IwyKzQ7Gbeq"
      },
      "source": [
        "df = pd.read_csv('/content/drive/MyDrive/data.csv')"
      ],
      "execution_count": 3,
      "outputs": []
    },
    {
      "cell_type": "code",
      "metadata": {
        "colab": {
          "base_uri": "https://localhost:8080/",
          "height": 241
        },
        "id": "qPBWDEMIGoGp",
        "outputId": "96c4d843-adef-49eb-ca7e-ec040be5c8d3"
      },
      "source": [
        "df.head()"
      ],
      "execution_count": 4,
      "outputs": [
        {
          "output_type": "execute_result",
          "data": {
            "text/html": [
              "<div>\n",
              "<style scoped>\n",
              "    .dataframe tbody tr th:only-of-type {\n",
              "        vertical-align: middle;\n",
              "    }\n",
              "\n",
              "    .dataframe tbody tr th {\n",
              "        vertical-align: top;\n",
              "    }\n",
              "\n",
              "    .dataframe thead th {\n",
              "        text-align: right;\n",
              "    }\n",
              "</style>\n",
              "<table border=\"1\" class=\"dataframe\">\n",
              "  <thead>\n",
              "    <tr style=\"text-align: right;\">\n",
              "      <th></th>\n",
              "      <th>Unnamed: 0</th>\n",
              "      <th>Id</th>\n",
              "      <th>groupId</th>\n",
              "      <th>matchId</th>\n",
              "      <th>assists</th>\n",
              "      <th>boosts</th>\n",
              "      <th>damageDealt</th>\n",
              "      <th>DBNOs</th>\n",
              "      <th>headshotKills</th>\n",
              "      <th>heals</th>\n",
              "      <th>killPlace</th>\n",
              "      <th>killPoints</th>\n",
              "      <th>kills</th>\n",
              "      <th>killStreaks</th>\n",
              "      <th>longestKill</th>\n",
              "      <th>matchDuration</th>\n",
              "      <th>matchType</th>\n",
              "      <th>maxPlace</th>\n",
              "      <th>numGroups</th>\n",
              "      <th>rankPoints</th>\n",
              "      <th>revives</th>\n",
              "      <th>rideDistance</th>\n",
              "      <th>roadKills</th>\n",
              "      <th>swimDistance</th>\n",
              "      <th>teamKills</th>\n",
              "      <th>vehicleDestroys</th>\n",
              "      <th>walkDistance</th>\n",
              "      <th>weaponsAcquired</th>\n",
              "      <th>winPoints</th>\n",
              "      <th>winPlacePerc</th>\n",
              "    </tr>\n",
              "  </thead>\n",
              "  <tbody>\n",
              "    <tr>\n",
              "      <th>0</th>\n",
              "      <td>2093518</td>\n",
              "      <td>a3e3cea9f2e314</td>\n",
              "      <td>c9f6eaa81245b5</td>\n",
              "      <td>a3d8693390584c</td>\n",
              "      <td>0</td>\n",
              "      <td>0</td>\n",
              "      <td>25.93</td>\n",
              "      <td>0</td>\n",
              "      <td>0</td>\n",
              "      <td>0</td>\n",
              "      <td>84</td>\n",
              "      <td>1437</td>\n",
              "      <td>0</td>\n",
              "      <td>0</td>\n",
              "      <td>0.000</td>\n",
              "      <td>1403</td>\n",
              "      <td>squad-fpp</td>\n",
              "      <td>31</td>\n",
              "      <td>29</td>\n",
              "      <td>-1</td>\n",
              "      <td>0</td>\n",
              "      <td>0.0</td>\n",
              "      <td>0</td>\n",
              "      <td>0.0</td>\n",
              "      <td>0</td>\n",
              "      <td>0</td>\n",
              "      <td>151.30</td>\n",
              "      <td>1</td>\n",
              "      <td>1525</td>\n",
              "      <td>0.0667</td>\n",
              "    </tr>\n",
              "    <tr>\n",
              "      <th>1</th>\n",
              "      <td>3701672</td>\n",
              "      <td>43e4be7ad72cc7</td>\n",
              "      <td>521836de101ee8</td>\n",
              "      <td>b65de9055327e0</td>\n",
              "      <td>0</td>\n",
              "      <td>0</td>\n",
              "      <td>36.71</td>\n",
              "      <td>0</td>\n",
              "      <td>0</td>\n",
              "      <td>0</td>\n",
              "      <td>57</td>\n",
              "      <td>1225</td>\n",
              "      <td>0</td>\n",
              "      <td>0</td>\n",
              "      <td>0.000</td>\n",
              "      <td>1971</td>\n",
              "      <td>squad-fpp</td>\n",
              "      <td>30</td>\n",
              "      <td>30</td>\n",
              "      <td>-1</td>\n",
              "      <td>0</td>\n",
              "      <td>0.0</td>\n",
              "      <td>0</td>\n",
              "      <td>0.0</td>\n",
              "      <td>0</td>\n",
              "      <td>0</td>\n",
              "      <td>1918.00</td>\n",
              "      <td>7</td>\n",
              "      <td>1516</td>\n",
              "      <td>0.5862</td>\n",
              "    </tr>\n",
              "    <tr>\n",
              "      <th>2</th>\n",
              "      <td>2059784</td>\n",
              "      <td>9a68690e31fdff</td>\n",
              "      <td>4a72ffa2cebd90</td>\n",
              "      <td>d6aad3f9830e60</td>\n",
              "      <td>0</td>\n",
              "      <td>1</td>\n",
              "      <td>47.73</td>\n",
              "      <td>0</td>\n",
              "      <td>0</td>\n",
              "      <td>0</td>\n",
              "      <td>50</td>\n",
              "      <td>0</td>\n",
              "      <td>0</td>\n",
              "      <td>0</td>\n",
              "      <td>0.000</td>\n",
              "      <td>1741</td>\n",
              "      <td>solo-fpp</td>\n",
              "      <td>96</td>\n",
              "      <td>89</td>\n",
              "      <td>1516</td>\n",
              "      <td>0</td>\n",
              "      <td>4088.0</td>\n",
              "      <td>0</td>\n",
              "      <td>0.0</td>\n",
              "      <td>0</td>\n",
              "      <td>0</td>\n",
              "      <td>820.00</td>\n",
              "      <td>7</td>\n",
              "      <td>0</td>\n",
              "      <td>0.8105</td>\n",
              "    </tr>\n",
              "    <tr>\n",
              "      <th>3</th>\n",
              "      <td>1302036</td>\n",
              "      <td>b147e1bd448fc4</td>\n",
              "      <td>9a8991656b3fea</td>\n",
              "      <td>d931c0932d8aca</td>\n",
              "      <td>0</td>\n",
              "      <td>0</td>\n",
              "      <td>0.00</td>\n",
              "      <td>0</td>\n",
              "      <td>0</td>\n",
              "      <td>0</td>\n",
              "      <td>56</td>\n",
              "      <td>1286</td>\n",
              "      <td>0</td>\n",
              "      <td>0</td>\n",
              "      <td>0.000</td>\n",
              "      <td>1738</td>\n",
              "      <td>squad-fpp</td>\n",
              "      <td>28</td>\n",
              "      <td>27</td>\n",
              "      <td>-1</td>\n",
              "      <td>1</td>\n",
              "      <td>0.0</td>\n",
              "      <td>0</td>\n",
              "      <td>0.0</td>\n",
              "      <td>0</td>\n",
              "      <td>0</td>\n",
              "      <td>38.81</td>\n",
              "      <td>0</td>\n",
              "      <td>1515</td>\n",
              "      <td>0.5556</td>\n",
              "    </tr>\n",
              "    <tr>\n",
              "      <th>4</th>\n",
              "      <td>297180</td>\n",
              "      <td>d818b4edd59612</td>\n",
              "      <td>eece87c8b846b3</td>\n",
              "      <td>ec2b5ed94baae3</td>\n",
              "      <td>0</td>\n",
              "      <td>2</td>\n",
              "      <td>100.00</td>\n",
              "      <td>0</td>\n",
              "      <td>0</td>\n",
              "      <td>3</td>\n",
              "      <td>31</td>\n",
              "      <td>0</td>\n",
              "      <td>1</td>\n",
              "      <td>1</td>\n",
              "      <td>7.737</td>\n",
              "      <td>2193</td>\n",
              "      <td>solo</td>\n",
              "      <td>99</td>\n",
              "      <td>95</td>\n",
              "      <td>1482</td>\n",
              "      <td>0</td>\n",
              "      <td>918.4</td>\n",
              "      <td>0</td>\n",
              "      <td>0.0</td>\n",
              "      <td>0</td>\n",
              "      <td>0</td>\n",
              "      <td>1721.00</td>\n",
              "      <td>5</td>\n",
              "      <td>0</td>\n",
              "      <td>0.6429</td>\n",
              "    </tr>\n",
              "  </tbody>\n",
              "</table>\n",
              "</div>"
            ],
            "text/plain": [
              "   Unnamed: 0              Id  ... winPoints winPlacePerc\n",
              "0     2093518  a3e3cea9f2e314  ...      1525       0.0667\n",
              "1     3701672  43e4be7ad72cc7  ...      1516       0.5862\n",
              "2     2059784  9a68690e31fdff  ...         0       0.8105\n",
              "3     1302036  b147e1bd448fc4  ...      1515       0.5556\n",
              "4      297180  d818b4edd59612  ...         0       0.6429\n",
              "\n",
              "[5 rows x 30 columns]"
            ]
          },
          "metadata": {
            "tags": []
          },
          "execution_count": 4
        }
      ]
    },
    {
      "cell_type": "code",
      "metadata": {
        "colab": {
          "base_uri": "https://localhost:8080/",
          "height": 317
        },
        "id": "HJ0_DdKUGscs",
        "outputId": "4f15d62d-8441-4ffc-c4b7-4f58d7c457c7"
      },
      "source": [
        "df.describe()"
      ],
      "execution_count": 5,
      "outputs": [
        {
          "output_type": "execute_result",
          "data": {
            "text/html": [
              "<div>\n",
              "<style scoped>\n",
              "    .dataframe tbody tr th:only-of-type {\n",
              "        vertical-align: middle;\n",
              "    }\n",
              "\n",
              "    .dataframe tbody tr th {\n",
              "        vertical-align: top;\n",
              "    }\n",
              "\n",
              "    .dataframe thead th {\n",
              "        text-align: right;\n",
              "    }\n",
              "</style>\n",
              "<table border=\"1\" class=\"dataframe\">\n",
              "  <thead>\n",
              "    <tr style=\"text-align: right;\">\n",
              "      <th></th>\n",
              "      <th>Unnamed: 0</th>\n",
              "      <th>assists</th>\n",
              "      <th>boosts</th>\n",
              "      <th>damageDealt</th>\n",
              "      <th>DBNOs</th>\n",
              "      <th>headshotKills</th>\n",
              "      <th>heals</th>\n",
              "      <th>killPlace</th>\n",
              "      <th>killPoints</th>\n",
              "      <th>kills</th>\n",
              "      <th>killStreaks</th>\n",
              "      <th>longestKill</th>\n",
              "      <th>matchDuration</th>\n",
              "      <th>maxPlace</th>\n",
              "      <th>numGroups</th>\n",
              "      <th>rankPoints</th>\n",
              "      <th>revives</th>\n",
              "      <th>rideDistance</th>\n",
              "      <th>roadKills</th>\n",
              "      <th>swimDistance</th>\n",
              "      <th>teamKills</th>\n",
              "      <th>vehicleDestroys</th>\n",
              "      <th>walkDistance</th>\n",
              "      <th>weaponsAcquired</th>\n",
              "      <th>winPoints</th>\n",
              "      <th>winPlacePerc</th>\n",
              "    </tr>\n",
              "  </thead>\n",
              "  <tbody>\n",
              "    <tr>\n",
              "      <th>count</th>\n",
              "      <td>1.111742e+06</td>\n",
              "      <td>1.111742e+06</td>\n",
              "      <td>1.111742e+06</td>\n",
              "      <td>1.111742e+06</td>\n",
              "      <td>1.111742e+06</td>\n",
              "      <td>1.111742e+06</td>\n",
              "      <td>1.111742e+06</td>\n",
              "      <td>1.111742e+06</td>\n",
              "      <td>1.111742e+06</td>\n",
              "      <td>1.111742e+06</td>\n",
              "      <td>1.111742e+06</td>\n",
              "      <td>1.111742e+06</td>\n",
              "      <td>1.111742e+06</td>\n",
              "      <td>1.111742e+06</td>\n",
              "      <td>1.111742e+06</td>\n",
              "      <td>1.111742e+06</td>\n",
              "      <td>1.111742e+06</td>\n",
              "      <td>1.111742e+06</td>\n",
              "      <td>1.111742e+06</td>\n",
              "      <td>1.111742e+06</td>\n",
              "      <td>1.111742e+06</td>\n",
              "      <td>1.111742e+06</td>\n",
              "      <td>1.111742e+06</td>\n",
              "      <td>1.111742e+06</td>\n",
              "      <td>1.111742e+06</td>\n",
              "      <td>1.111741e+06</td>\n",
              "    </tr>\n",
              "    <tr>\n",
              "      <th>mean</th>\n",
              "      <td>2.224362e+06</td>\n",
              "      <td>2.336738e-01</td>\n",
              "      <td>1.106655e+00</td>\n",
              "      <td>1.307364e+02</td>\n",
              "      <td>6.573612e-01</td>\n",
              "      <td>2.266488e-01</td>\n",
              "      <td>1.370348e+00</td>\n",
              "      <td>4.759562e+01</td>\n",
              "      <td>5.044301e+02</td>\n",
              "      <td>9.255097e-01</td>\n",
              "      <td>5.448503e-01</td>\n",
              "      <td>2.299814e+01</td>\n",
              "      <td>1.579348e+03</td>\n",
              "      <td>4.450584e+01</td>\n",
              "      <td>4.300693e+01</td>\n",
              "      <td>8.927902e+02</td>\n",
              "      <td>1.641784e-01</td>\n",
              "      <td>6.042142e+02</td>\n",
              "      <td>3.551184e-03</td>\n",
              "      <td>4.545068e+00</td>\n",
              "      <td>2.401097e-02</td>\n",
              "      <td>7.833652e-03</td>\n",
              "      <td>1.153282e+03</td>\n",
              "      <td>3.659685e+00</td>\n",
              "      <td>6.057065e+02</td>\n",
              "      <td>4.727868e-01</td>\n",
              "    </tr>\n",
              "    <tr>\n",
              "      <th>std</th>\n",
              "      <td>1.283879e+06</td>\n",
              "      <td>5.894028e-01</td>\n",
              "      <td>1.716050e+00</td>\n",
              "      <td>1.711755e+02</td>\n",
              "      <td>1.146023e+00</td>\n",
              "      <td>6.033356e-01</td>\n",
              "      <td>2.683819e+00</td>\n",
              "      <td>2.747025e+01</td>\n",
              "      <td>6.274006e+02</td>\n",
              "      <td>1.562216e+00</td>\n",
              "      <td>7.129032e-01</td>\n",
              "      <td>5.106977e+01</td>\n",
              "      <td>2.589348e+02</td>\n",
              "      <td>2.381989e+01</td>\n",
              "      <td>2.327841e+01</td>\n",
              "      <td>7.366443e+02</td>\n",
              "      <td>4.704189e-01</td>\n",
              "      <td>1.495949e+03</td>\n",
              "      <td>7.385452e-02</td>\n",
              "      <td>3.061857e+01</td>\n",
              "      <td>1.678909e-01</td>\n",
              "      <td>9.194621e-02</td>\n",
              "      <td>1.182788e+03</td>\n",
              "      <td>2.461805e+00</td>\n",
              "      <td>7.395140e+02</td>\n",
              "      <td>3.073771e-01</td>\n",
              "    </tr>\n",
              "    <tr>\n",
              "      <th>min</th>\n",
              "      <td>6.000000e+00</td>\n",
              "      <td>0.000000e+00</td>\n",
              "      <td>0.000000e+00</td>\n",
              "      <td>0.000000e+00</td>\n",
              "      <td>0.000000e+00</td>\n",
              "      <td>0.000000e+00</td>\n",
              "      <td>0.000000e+00</td>\n",
              "      <td>1.000000e+00</td>\n",
              "      <td>0.000000e+00</td>\n",
              "      <td>0.000000e+00</td>\n",
              "      <td>0.000000e+00</td>\n",
              "      <td>0.000000e+00</td>\n",
              "      <td>9.000000e+00</td>\n",
              "      <td>1.000000e+00</td>\n",
              "      <td>1.000000e+00</td>\n",
              "      <td>-1.000000e+00</td>\n",
              "      <td>0.000000e+00</td>\n",
              "      <td>0.000000e+00</td>\n",
              "      <td>0.000000e+00</td>\n",
              "      <td>0.000000e+00</td>\n",
              "      <td>0.000000e+00</td>\n",
              "      <td>0.000000e+00</td>\n",
              "      <td>0.000000e+00</td>\n",
              "      <td>0.000000e+00</td>\n",
              "      <td>0.000000e+00</td>\n",
              "      <td>0.000000e+00</td>\n",
              "    </tr>\n",
              "    <tr>\n",
              "      <th>25%</th>\n",
              "      <td>1.112440e+06</td>\n",
              "      <td>0.000000e+00</td>\n",
              "      <td>0.000000e+00</td>\n",
              "      <td>0.000000e+00</td>\n",
              "      <td>0.000000e+00</td>\n",
              "      <td>0.000000e+00</td>\n",
              "      <td>0.000000e+00</td>\n",
              "      <td>2.400000e+01</td>\n",
              "      <td>0.000000e+00</td>\n",
              "      <td>0.000000e+00</td>\n",
              "      <td>0.000000e+00</td>\n",
              "      <td>0.000000e+00</td>\n",
              "      <td>1.367000e+03</td>\n",
              "      <td>2.800000e+01</td>\n",
              "      <td>2.700000e+01</td>\n",
              "      <td>-1.000000e+00</td>\n",
              "      <td>0.000000e+00</td>\n",
              "      <td>0.000000e+00</td>\n",
              "      <td>0.000000e+00</td>\n",
              "      <td>0.000000e+00</td>\n",
              "      <td>0.000000e+00</td>\n",
              "      <td>0.000000e+00</td>\n",
              "      <td>1.552000e+02</td>\n",
              "      <td>2.000000e+00</td>\n",
              "      <td>0.000000e+00</td>\n",
              "      <td>2.000000e-01</td>\n",
              "    </tr>\n",
              "    <tr>\n",
              "      <th>50%</th>\n",
              "      <td>2.223772e+06</td>\n",
              "      <td>0.000000e+00</td>\n",
              "      <td>0.000000e+00</td>\n",
              "      <td>8.411000e+01</td>\n",
              "      <td>0.000000e+00</td>\n",
              "      <td>0.000000e+00</td>\n",
              "      <td>0.000000e+00</td>\n",
              "      <td>4.700000e+01</td>\n",
              "      <td>0.000000e+00</td>\n",
              "      <td>0.000000e+00</td>\n",
              "      <td>0.000000e+00</td>\n",
              "      <td>0.000000e+00</td>\n",
              "      <td>1.438000e+03</td>\n",
              "      <td>3.000000e+01</td>\n",
              "      <td>3.000000e+01</td>\n",
              "      <td>1.444000e+03</td>\n",
              "      <td>0.000000e+00</td>\n",
              "      <td>0.000000e+00</td>\n",
              "      <td>0.000000e+00</td>\n",
              "      <td>0.000000e+00</td>\n",
              "      <td>0.000000e+00</td>\n",
              "      <td>0.000000e+00</td>\n",
              "      <td>6.841000e+02</td>\n",
              "      <td>3.000000e+00</td>\n",
              "      <td>0.000000e+00</td>\n",
              "      <td>4.583000e-01</td>\n",
              "    </tr>\n",
              "    <tr>\n",
              "      <th>75%</th>\n",
              "      <td>3.337954e+06</td>\n",
              "      <td>0.000000e+00</td>\n",
              "      <td>2.000000e+00</td>\n",
              "      <td>1.859000e+02</td>\n",
              "      <td>1.000000e+00</td>\n",
              "      <td>0.000000e+00</td>\n",
              "      <td>2.000000e+00</td>\n",
              "      <td>7.100000e+01</td>\n",
              "      <td>1.171000e+03</td>\n",
              "      <td>1.000000e+00</td>\n",
              "      <td>1.000000e+00</td>\n",
              "      <td>2.133000e+01</td>\n",
              "      <td>1.851000e+03</td>\n",
              "      <td>4.900000e+01</td>\n",
              "      <td>4.700000e+01</td>\n",
              "      <td>1.500000e+03</td>\n",
              "      <td>0.000000e+00</td>\n",
              "      <td>7.927500e-02</td>\n",
              "      <td>0.000000e+00</td>\n",
              "      <td>0.000000e+00</td>\n",
              "      <td>0.000000e+00</td>\n",
              "      <td>0.000000e+00</td>\n",
              "      <td>1.975000e+03</td>\n",
              "      <td>5.000000e+00</td>\n",
              "      <td>1.495000e+03</td>\n",
              "      <td>7.407000e-01</td>\n",
              "    </tr>\n",
              "    <tr>\n",
              "      <th>max</th>\n",
              "      <td>4.446964e+06</td>\n",
              "      <td>1.700000e+01</td>\n",
              "      <td>2.400000e+01</td>\n",
              "      <td>5.990000e+03</td>\n",
              "      <td>3.500000e+01</td>\n",
              "      <td>6.400000e+01</td>\n",
              "      <td>7.300000e+01</td>\n",
              "      <td>1.000000e+02</td>\n",
              "      <td>2.170000e+03</td>\n",
              "      <td>7.200000e+01</td>\n",
              "      <td>2.000000e+01</td>\n",
              "      <td>1.040000e+03</td>\n",
              "      <td>2.237000e+03</td>\n",
              "      <td>1.000000e+02</td>\n",
              "      <td>1.000000e+02</td>\n",
              "      <td>5.910000e+03</td>\n",
              "      <td>2.300000e+01</td>\n",
              "      <td>3.540000e+04</td>\n",
              "      <td>1.400000e+01</td>\n",
              "      <td>2.668000e+03</td>\n",
              "      <td>1.000000e+01</td>\n",
              "      <td>5.000000e+00</td>\n",
              "      <td>1.396000e+04</td>\n",
              "      <td>1.770000e+02</td>\n",
              "      <td>2.002000e+03</td>\n",
              "      <td>1.000000e+00</td>\n",
              "    </tr>\n",
              "  </tbody>\n",
              "</table>\n",
              "</div>"
            ],
            "text/plain": [
              "         Unnamed: 0       assists  ...     winPoints  winPlacePerc\n",
              "count  1.111742e+06  1.111742e+06  ...  1.111742e+06  1.111741e+06\n",
              "mean   2.224362e+06  2.336738e-01  ...  6.057065e+02  4.727868e-01\n",
              "std    1.283879e+06  5.894028e-01  ...  7.395140e+02  3.073771e-01\n",
              "min    6.000000e+00  0.000000e+00  ...  0.000000e+00  0.000000e+00\n",
              "25%    1.112440e+06  0.000000e+00  ...  0.000000e+00  2.000000e-01\n",
              "50%    2.223772e+06  0.000000e+00  ...  0.000000e+00  4.583000e-01\n",
              "75%    3.337954e+06  0.000000e+00  ...  1.495000e+03  7.407000e-01\n",
              "max    4.446964e+06  1.700000e+01  ...  2.002000e+03  1.000000e+00\n",
              "\n",
              "[8 rows x 26 columns]"
            ]
          },
          "metadata": {
            "tags": []
          },
          "execution_count": 5
        }
      ]
    },
    {
      "cell_type": "code",
      "metadata": {
        "colab": {
          "base_uri": "https://localhost:8080/"
        },
        "id": "kKst0TApGyWS",
        "outputId": "7a467eb2-3f75-4292-fb7a-02bc921394e0"
      },
      "source": [
        "df.isnull().sum()"
      ],
      "execution_count": 6,
      "outputs": [
        {
          "output_type": "execute_result",
          "data": {
            "text/plain": [
              "Unnamed: 0         0\n",
              "Id                 0\n",
              "groupId            0\n",
              "matchId            0\n",
              "assists            0\n",
              "boosts             0\n",
              "damageDealt        0\n",
              "DBNOs              0\n",
              "headshotKills      0\n",
              "heals              0\n",
              "killPlace          0\n",
              "killPoints         0\n",
              "kills              0\n",
              "killStreaks        0\n",
              "longestKill        0\n",
              "matchDuration      0\n",
              "matchType          0\n",
              "maxPlace           0\n",
              "numGroups          0\n",
              "rankPoints         0\n",
              "revives            0\n",
              "rideDistance       0\n",
              "roadKills          0\n",
              "swimDistance       0\n",
              "teamKills          0\n",
              "vehicleDestroys    0\n",
              "walkDistance       0\n",
              "weaponsAcquired    0\n",
              "winPoints          0\n",
              "winPlacePerc       1\n",
              "dtype: int64"
            ]
          },
          "metadata": {
            "tags": []
          },
          "execution_count": 6
        }
      ]
    },
    {
      "cell_type": "code",
      "metadata": {
        "id": "1Lh3bYOqG4Yf"
      },
      "source": [
        "df[\"winPlacePerc\"] = df[\"winPlacePerc\"].fillna(np.mean(df[\"winPlacePerc\"]))"
      ],
      "execution_count": 8,
      "outputs": []
    },
    {
      "cell_type": "code",
      "metadata": {
        "colab": {
          "base_uri": "https://localhost:8080/"
        },
        "id": "U7hRypN8HL1x",
        "outputId": "ae0e1370-aed4-4e38-878f-1073b1aeb6e5"
      },
      "source": [
        "df.isnull().sum()"
      ],
      "execution_count": 10,
      "outputs": [
        {
          "output_type": "execute_result",
          "data": {
            "text/plain": [
              "Unnamed: 0         0\n",
              "Id                 0\n",
              "groupId            0\n",
              "matchId            0\n",
              "assists            0\n",
              "boosts             0\n",
              "damageDealt        0\n",
              "DBNOs              0\n",
              "headshotKills      0\n",
              "heals              0\n",
              "killPlace          0\n",
              "killPoints         0\n",
              "kills              0\n",
              "killStreaks        0\n",
              "longestKill        0\n",
              "matchDuration      0\n",
              "matchType          0\n",
              "maxPlace           0\n",
              "numGroups          0\n",
              "rankPoints         0\n",
              "revives            0\n",
              "rideDistance       0\n",
              "roadKills          0\n",
              "swimDistance       0\n",
              "teamKills          0\n",
              "vehicleDestroys    0\n",
              "walkDistance       0\n",
              "weaponsAcquired    0\n",
              "winPoints          0\n",
              "winPlacePerc       0\n",
              "dtype: int64"
            ]
          },
          "metadata": {
            "tags": []
          },
          "execution_count": 10
        }
      ]
    },
    {
      "cell_type": "code",
      "metadata": {
        "colab": {
          "base_uri": "https://localhost:8080/"
        },
        "id": "yHjNWh-UHXYX",
        "outputId": "34d8ea64-bf04-4f4e-cbee-7506fd8678db"
      },
      "source": [
        "df.skew()"
      ],
      "execution_count": 11,
      "outputs": [
        {
          "output_type": "execute_result",
          "data": {
            "text/plain": [
              "Unnamed: 0          0.000003\n",
              "assists             3.608622\n",
              "boosts              1.953292\n",
              "damageDealt         3.014093\n",
              "DBNOs               3.185760\n",
              "headshotKills       6.048764\n",
              "heals               3.476639\n",
              "killPlace           0.027635\n",
              "killPoints          0.520990\n",
              "kills               3.452266\n",
              "killStreaks         1.286748\n",
              "longestKill         3.999413\n",
              "matchDuration       0.274046\n",
              "maxPlace            1.354716\n",
              "numGroups           1.361751\n",
              "rankPoints         -0.367622\n",
              "revives             4.018129\n",
              "rideDistance        3.335737\n",
              "roadKills          35.613026\n",
              "swimDistance       13.988223\n",
              "teamKills           8.174814\n",
              "vehicleDestroys    12.744544\n",
              "walkDistance        1.091027\n",
              "weaponsAcquired     2.609852\n",
              "winPoints           0.407401\n",
              "winPlacePerc        0.098283\n",
              "dtype: float64"
            ]
          },
          "metadata": {
            "tags": []
          },
          "execution_count": 11
        }
      ]
    },
    {
      "cell_type": "code",
      "metadata": {
        "colab": {
          "base_uri": "https://localhost:8080/"
        },
        "id": "tQbn3L_IHhq1",
        "outputId": "82b8960b-3468-48fc-cb3e-af7e18c0928f"
      },
      "source": [
        "df.kurtosis()"
      ],
      "execution_count": 12,
      "outputs": [
        {
          "output_type": "execute_result",
          "data": {
            "text/plain": [
              "Unnamed: 0           -1.201103\n",
              "assists              21.796652\n",
              "boosts                4.315384\n",
              "damageDealt          21.441811\n",
              "DBNOs                21.499852\n",
              "headshotKills       195.621011\n",
              "heals                19.498255\n",
              "killPlace            -1.184863\n",
              "killPoints           -1.559758\n",
              "kills                30.707200\n",
              "killStreaks           2.788812\n",
              "longestKill          25.412510\n",
              "matchDuration        -1.255459\n",
              "maxPlace              0.488157\n",
              "numGroups             0.537757\n",
              "rankPoints           -1.800895\n",
              "revives              36.461919\n",
              "rideDistance         14.295050\n",
              "roadKills          2628.263567\n",
              "swimDistance        346.205853\n",
              "teamKills            89.672993\n",
              "vehicleDestroys     190.139282\n",
              "walkDistance          0.942376\n",
              "weaponsAcquired      55.587503\n",
              "winPoints            -1.823766\n",
              "winPlacePerc         -1.245227\n",
              "dtype: float64"
            ]
          },
          "metadata": {
            "tags": []
          },
          "execution_count": 12
        }
      ]
    },
    {
      "cell_type": "code",
      "metadata": {
        "colab": {
          "base_uri": "https://localhost:8080/",
          "height": 296
        },
        "id": "DRr0VGVgHkuV",
        "outputId": "55fbb48d-cf96-45fa-85aa-cd8d7a3cfb7e"
      },
      "source": [
        "sns.barplot(x = df.teamKills,y = df.damageDealt)"
      ],
      "execution_count": 14,
      "outputs": [
        {
          "output_type": "execute_result",
          "data": {
            "text/plain": [
              "<matplotlib.axes._subplots.AxesSubplot at 0x7f8bc88b1950>"
            ]
          },
          "metadata": {
            "tags": []
          },
          "execution_count": 14
        },
        {
          "output_type": "display_data",
          "data": {
            "image/png": "[encoded data removed]",
            "text/plain": [
              "<Figure size 432x288 with 1 Axes>"
            ]
          },
          "metadata": {
            "tags": [],
            "needs_background": "light"
          }
        }
      ]
    },
    {
      "cell_type": "code",
      "metadata": {
        "colab": {
          "base_uri": "https://localhost:8080/",
          "height": 946
        },
        "id": "b0SPFMNAHwuE",
        "outputId": "111cd4f0-5f66-4bc4-8cc1-377b73d8b6c1"
      },
      "source": [
        "f,ax = plt.subplots(figsize=(15, 15))\n",
        "sns.heatmap(df.corr(), annot=True, linewidths=.5, fmt= '.1f',ax=ax)\n",
        "plt.show()"
      ],
      "execution_count": 15,
      "outputs": [
        {
          "output_type": "display_data",
          "data": {
            "image/png": "[encoded data removed]",
            "text/plain": [
              "<Figure size 1080x1080 with 2 Axes>"
            ]
          },
          "metadata": {
            "tags": [],
            "needs_background": "light"
          }
        }
      ]
    },
    {
      "cell_type": "code",
      "metadata": {
        "colab": {
          "base_uri": "https://localhost:8080/",
          "height": 333
        },
        "id": "NkZpU2W6Mv8W",
        "outputId": "67c0cbb6-e909-4d04-bfbf-de974807afc8"
      },
      "source": [
        "sns.distplot(df['damageDealt'])\n",
        "plt.show()"
      ],
      "execution_count": 16,
      "outputs": [
        {
          "output_type": "stream",
          "text": [
            "/usr/local/lib/python3.7/dist-packages/seaborn/distributions.py:2557: FutureWarning: `distplot` is a deprecated function and will be removed in a future version. Please adapt your code to use either `displot` (a figure-level function with similar flexibility) or `histplot` (an axes-level function for histograms).\n",
            "  warnings.warn(msg, FutureWarning)\n"
          ],
          "name": "stderr"
        },
        {
          "output_type": "display_data",
          "data": {
            "image/png": "[encoded data removed]",
            "text/plain": [
              "<Figure size 432x288 with 1 Axes>"
            ]
          },
          "metadata": {
            "tags": [],
            "needs_background": "light"
          }
        }
      ]
    },
    {
      "cell_type": "code",
      "metadata": {
        "colab": {
          "base_uri": "https://localhost:8080/",
          "height": 296
        },
        "id": "QHeGarrMM4yI",
        "outputId": "ec6d8bd8-115d-443c-9d34-ace8a59169cd"
      },
      "source": [
        "sns.scatterplot(y = df.heals,x = df.revives)"
      ],
      "execution_count": 18,
      "outputs": [
        {
          "output_type": "execute_result",
          "data": {
            "text/plain": [
              "<matplotlib.axes._subplots.AxesSubplot at 0x7f8bb134aa50>"
            ]
          },
          "metadata": {
            "tags": []
          },
          "execution_count": 18
        },
        {
          "output_type": "display_data",
          "data": {
            "image/png": "[encoded data removed]",
            "text/plain": [
              "<Figure size 432x288 with 1 Axes>"
            ]
          },
          "metadata": {
            "tags": [],
            "needs_background": "light"
          }
        }
      ]
    },
    {
      "cell_type": "code",
      "metadata": {
        "colab": {
          "base_uri": "https://localhost:8080/",
          "height": 361
        },
        "id": "Af5O0MwuM_oQ",
        "outputId": "533b2e10-e1df-4507-af60-f4cd21aad3d3"
      },
      "source": [
        "sns.countplot(df['vehicleDestroys'])"
      ],
      "execution_count": 20,
      "outputs": [
        {
          "output_type": "stream",
          "text": [
            "/usr/local/lib/python3.7/dist-packages/seaborn/_decorators.py:43: FutureWarning: Pass the following variable as a keyword arg: x. From version 0.12, the only valid positional argument will be `data`, and passing other arguments without an explicit keyword will result in an error or misinterpretation.\n",
            "  FutureWarning\n"
          ],
          "name": "stderr"
        },
        {
          "output_type": "execute_result",
          "data": {
            "text/plain": [
              "<matplotlib.axes._subplots.AxesSubplot at 0x7f8bb23b1d50>"
            ]
          },
          "metadata": {
            "tags": []
          },
          "execution_count": 20
        },
        {
          "output_type": "display_data",
          "data": {
            "image/png": "[encoded data removed]",
            "text/plain": [
              "<Figure size 432x288 with 1 Axes>"
            ]
          },
          "metadata": {
            "tags": [],
            "needs_background": "light"
          }
        }
      ]
    },
    {
      "cell_type": "code",
      "metadata": {
        "colab": {
          "base_uri": "https://localhost:8080/",
          "height": 326
        },
        "id": "h8bvUGZDNFCf",
        "outputId": "13270c16-0dd3-4916-8dd9-37e5411fe841"
      },
      "source": [
        "df.sort_values(by=['kills'], ascending=False).head(5)"
      ],
      "execution_count": 21,
      "outputs": [
        {
          "output_type": "execute_result",
          "data": {
            "text/html": [
              "<div>\n",
              "<style scoped>\n",
              "    .dataframe tbody tr th:only-of-type {\n",
              "        vertical-align: middle;\n",
              "    }\n",
              "\n",
              "    .dataframe tbody tr th {\n",
              "        vertical-align: top;\n",
              "    }\n",
              "\n",
              "    .dataframe thead th {\n",
              "        text-align: right;\n",
              "    }\n",
              "</style>\n",
              "<table border=\"1\" class=\"dataframe\">\n",
              "  <thead>\n",
              "    <tr style=\"text-align: right;\">\n",
              "      <th></th>\n",
              "      <th>Unnamed: 0</th>\n",
              "      <th>Id</th>\n",
              "      <th>groupId</th>\n",
              "      <th>matchId</th>\n",
              "      <th>assists</th>\n",
              "      <th>boosts</th>\n",
              "      <th>damageDealt</th>\n",
              "      <th>DBNOs</th>\n",
              "      <th>headshotKills</th>\n",
              "      <th>heals</th>\n",
              "      <th>killPlace</th>\n",
              "      <th>killPoints</th>\n",
              "      <th>kills</th>\n",
              "      <th>killStreaks</th>\n",
              "      <th>longestKill</th>\n",
              "      <th>matchDuration</th>\n",
              "      <th>matchType</th>\n",
              "      <th>maxPlace</th>\n",
              "      <th>numGroups</th>\n",
              "      <th>rankPoints</th>\n",
              "      <th>revives</th>\n",
              "      <th>rideDistance</th>\n",
              "      <th>roadKills</th>\n",
              "      <th>swimDistance</th>\n",
              "      <th>teamKills</th>\n",
              "      <th>vehicleDestroys</th>\n",
              "      <th>walkDistance</th>\n",
              "      <th>weaponsAcquired</th>\n",
              "      <th>winPoints</th>\n",
              "      <th>winPlacePerc</th>\n",
              "    </tr>\n",
              "  </thead>\n",
              "  <tbody>\n",
              "    <tr>\n",
              "      <th>758017</th>\n",
              "      <td>3431247</td>\n",
              "      <td>06308c988bf0c2</td>\n",
              "      <td>4c4ee1e9eb8b5e</td>\n",
              "      <td>6680c7c3d17d48</td>\n",
              "      <td>7</td>\n",
              "      <td>4</td>\n",
              "      <td>5990.0</td>\n",
              "      <td>0</td>\n",
              "      <td>64</td>\n",
              "      <td>10</td>\n",
              "      <td>1</td>\n",
              "      <td>0</td>\n",
              "      <td>72</td>\n",
              "      <td>7</td>\n",
              "      <td>78.23</td>\n",
              "      <td>1800</td>\n",
              "      <td>normal-squad</td>\n",
              "      <td>15</td>\n",
              "      <td>15</td>\n",
              "      <td>1500</td>\n",
              "      <td>0</td>\n",
              "      <td>0.0</td>\n",
              "      <td>0</td>\n",
              "      <td>0.0</td>\n",
              "      <td>0</td>\n",
              "      <td>0</td>\n",
              "      <td>728.10</td>\n",
              "      <td>35</td>\n",
              "      <td>0</td>\n",
              "      <td>1.0</td>\n",
              "    </tr>\n",
              "    <tr>\n",
              "      <th>697393</th>\n",
              "      <td>1491277</td>\n",
              "      <td>1f6ceaa5140fb6</td>\n",
              "      <td>dc2fef63e14d5c</td>\n",
              "      <td>f900de1ec39fa5</td>\n",
              "      <td>15</td>\n",
              "      <td>0</td>\n",
              "      <td>5468.0</td>\n",
              "      <td>0</td>\n",
              "      <td>13</td>\n",
              "      <td>5</td>\n",
              "      <td>2</td>\n",
              "      <td>0</td>\n",
              "      <td>56</td>\n",
              "      <td>4</td>\n",
              "      <td>79.06</td>\n",
              "      <td>1798</td>\n",
              "      <td>normal-solo-fpp</td>\n",
              "      <td>11</td>\n",
              "      <td>11</td>\n",
              "      <td>1500</td>\n",
              "      <td>0</td>\n",
              "      <td>3492.0</td>\n",
              "      <td>0</td>\n",
              "      <td>0.0</td>\n",
              "      <td>0</td>\n",
              "      <td>0</td>\n",
              "      <td>1059.00</td>\n",
              "      <td>60</td>\n",
              "      <td>0</td>\n",
              "      <td>0.9</td>\n",
              "    </tr>\n",
              "    <tr>\n",
              "      <th>1036315</th>\n",
              "      <td>770454</td>\n",
              "      <td>2ade4369bccd12</td>\n",
              "      <td>9f9e64a3db8384</td>\n",
              "      <td>e024bf51bf1799</td>\n",
              "      <td>12</td>\n",
              "      <td>0</td>\n",
              "      <td>5557.0</td>\n",
              "      <td>0</td>\n",
              "      <td>7</td>\n",
              "      <td>4</td>\n",
              "      <td>1</td>\n",
              "      <td>0</td>\n",
              "      <td>55</td>\n",
              "      <td>6</td>\n",
              "      <td>74.79</td>\n",
              "      <td>1798</td>\n",
              "      <td>normal-solo-fpp</td>\n",
              "      <td>19</td>\n",
              "      <td>18</td>\n",
              "      <td>1500</td>\n",
              "      <td>0</td>\n",
              "      <td>0.0</td>\n",
              "      <td>0</td>\n",
              "      <td>0.0</td>\n",
              "      <td>0</td>\n",
              "      <td>0</td>\n",
              "      <td>85.55</td>\n",
              "      <td>66</td>\n",
              "      <td>0</td>\n",
              "      <td>1.0</td>\n",
              "    </tr>\n",
              "    <tr>\n",
              "      <th>349163</th>\n",
              "      <td>2929506</td>\n",
              "      <td>97047ef60af1e7</td>\n",
              "      <td>f02fdd0b3071d3</td>\n",
              "      <td>5921b55b9e96b5</td>\n",
              "      <td>11</td>\n",
              "      <td>0</td>\n",
              "      <td>5520.0</td>\n",
              "      <td>0</td>\n",
              "      <td>8</td>\n",
              "      <td>4</td>\n",
              "      <td>1</td>\n",
              "      <td>0</td>\n",
              "      <td>53</td>\n",
              "      <td>3</td>\n",
              "      <td>39.20</td>\n",
              "      <td>1799</td>\n",
              "      <td>normal-solo-fpp</td>\n",
              "      <td>16</td>\n",
              "      <td>14</td>\n",
              "      <td>1500</td>\n",
              "      <td>0</td>\n",
              "      <td>1645.0</td>\n",
              "      <td>0</td>\n",
              "      <td>0.0</td>\n",
              "      <td>0</td>\n",
              "      <td>0</td>\n",
              "      <td>1045.00</td>\n",
              "      <td>57</td>\n",
              "      <td>0</td>\n",
              "      <td>1.0</td>\n",
              "    </tr>\n",
              "    <tr>\n",
              "      <th>521514</th>\n",
              "      <td>1454065</td>\n",
              "      <td>c47bd86daa3de6</td>\n",
              "      <td>4df3e348b910d8</td>\n",
              "      <td>3ebf1bf8bc6bae</td>\n",
              "      <td>2</td>\n",
              "      <td>2</td>\n",
              "      <td>4495.0</td>\n",
              "      <td>0</td>\n",
              "      <td>42</td>\n",
              "      <td>2</td>\n",
              "      <td>1</td>\n",
              "      <td>1000</td>\n",
              "      <td>50</td>\n",
              "      <td>7</td>\n",
              "      <td>324.20</td>\n",
              "      <td>1136</td>\n",
              "      <td>normal-solo-fpp</td>\n",
              "      <td>30</td>\n",
              "      <td>17</td>\n",
              "      <td>-1</td>\n",
              "      <td>0</td>\n",
              "      <td>0.0</td>\n",
              "      <td>0</td>\n",
              "      <td>0.0</td>\n",
              "      <td>0</td>\n",
              "      <td>0</td>\n",
              "      <td>1021.00</td>\n",
              "      <td>15</td>\n",
              "      <td>1500</td>\n",
              "      <td>1.0</td>\n",
              "    </tr>\n",
              "  </tbody>\n",
              "</table>\n",
              "</div>"
            ],
            "text/plain": [
              "         Unnamed: 0              Id  ... winPoints winPlacePerc\n",
              "758017      3431247  06308c988bf0c2  ...         0          1.0\n",
              "697393      1491277  1f6ceaa5140fb6  ...         0          0.9\n",
              "1036315      770454  2ade4369bccd12  ...         0          1.0\n",
              "349163      2929506  97047ef60af1e7  ...         0          1.0\n",
              "521514      1454065  c47bd86daa3de6  ...      1500          1.0\n",
              "\n",
              "[5 rows x 30 columns]"
            ]
          },
          "metadata": {
            "tags": []
          },
          "execution_count": 21
        }
      ]
    },
    {
      "cell_type": "code",
      "metadata": {
        "colab": {
          "base_uri": "https://localhost:8080/",
          "height": 456
        },
        "id": "jgq2HIkNNOiu",
        "outputId": "f5bbfdf7-aac9-4a11-ac3a-38d9daa8a20b"
      },
      "source": [
        "df[df.headshotKills == 1]"
      ],
      "execution_count": 23,
      "outputs": [
        {
          "output_type": "execute_result",
          "data": {
            "text/html": [
              "<div>\n",
              "<style scoped>\n",
              "    .dataframe tbody tr th:only-of-type {\n",
              "        vertical-align: middle;\n",
              "    }\n",
              "\n",
              "    .dataframe tbody tr th {\n",
              "        vertical-align: top;\n",
              "    }\n",
              "\n",
              "    .dataframe thead th {\n",
              "        text-align: right;\n",
              "    }\n",
              "</style>\n",
              "<table border=\"1\" class=\"dataframe\">\n",
              "  <thead>\n",
              "    <tr style=\"text-align: right;\">\n",
              "      <th></th>\n",
              "      <th>Unnamed: 0</th>\n",
              "      <th>Id</th>\n",
              "      <th>groupId</th>\n",
              "      <th>matchId</th>\n",
              "      <th>assists</th>\n",
              "      <th>boosts</th>\n",
              "      <th>damageDealt</th>\n",
              "      <th>DBNOs</th>\n",
              "      <th>headshotKills</th>\n",
              "      <th>heals</th>\n",
              "      <th>killPlace</th>\n",
              "      <th>killPoints</th>\n",
              "      <th>kills</th>\n",
              "      <th>killStreaks</th>\n",
              "      <th>longestKill</th>\n",
              "      <th>matchDuration</th>\n",
              "      <th>matchType</th>\n",
              "      <th>maxPlace</th>\n",
              "      <th>numGroups</th>\n",
              "      <th>rankPoints</th>\n",
              "      <th>revives</th>\n",
              "      <th>rideDistance</th>\n",
              "      <th>roadKills</th>\n",
              "      <th>swimDistance</th>\n",
              "      <th>teamKills</th>\n",
              "      <th>vehicleDestroys</th>\n",
              "      <th>walkDistance</th>\n",
              "      <th>weaponsAcquired</th>\n",
              "      <th>winPoints</th>\n",
              "      <th>winPlacePerc</th>\n",
              "    </tr>\n",
              "  </thead>\n",
              "  <tbody>\n",
              "    <tr>\n",
              "      <th>43</th>\n",
              "      <td>3067187</td>\n",
              "      <td>f9970ab7f174a3</td>\n",
              "      <td>cb3f0e187cee01</td>\n",
              "      <td>6e823d01a4c3c8</td>\n",
              "      <td>0</td>\n",
              "      <td>0</td>\n",
              "      <td>100.0</td>\n",
              "      <td>0</td>\n",
              "      <td>1</td>\n",
              "      <td>2</td>\n",
              "      <td>31</td>\n",
              "      <td>1172</td>\n",
              "      <td>1</td>\n",
              "      <td>1</td>\n",
              "      <td>176.30</td>\n",
              "      <td>1343</td>\n",
              "      <td>solo-fpp</td>\n",
              "      <td>98</td>\n",
              "      <td>97</td>\n",
              "      <td>-1</td>\n",
              "      <td>0</td>\n",
              "      <td>0.0</td>\n",
              "      <td>0</td>\n",
              "      <td>0.0</td>\n",
              "      <td>0</td>\n",
              "      <td>0</td>\n",
              "      <td>1116.0</td>\n",
              "      <td>4</td>\n",
              "      <td>1494</td>\n",
              "      <td>0.6701</td>\n",
              "    </tr>\n",
              "    <tr>\n",
              "      <th>48</th>\n",
              "      <td>451501</td>\n",
              "      <td>69cc179102b606</td>\n",
              "      <td>419f789692c3cf</td>\n",
              "      <td>a262e09ae21743</td>\n",
              "      <td>0</td>\n",
              "      <td>5</td>\n",
              "      <td>653.3</td>\n",
              "      <td>5</td>\n",
              "      <td>1</td>\n",
              "      <td>9</td>\n",
              "      <td>2</td>\n",
              "      <td>1770</td>\n",
              "      <td>5</td>\n",
              "      <td>2</td>\n",
              "      <td>352.30</td>\n",
              "      <td>1771</td>\n",
              "      <td>squad-fpp</td>\n",
              "      <td>28</td>\n",
              "      <td>27</td>\n",
              "      <td>-1</td>\n",
              "      <td>2</td>\n",
              "      <td>424.8</td>\n",
              "      <td>0</td>\n",
              "      <td>176.0</td>\n",
              "      <td>0</td>\n",
              "      <td>0</td>\n",
              "      <td>2999.0</td>\n",
              "      <td>6</td>\n",
              "      <td>1563</td>\n",
              "      <td>0.8148</td>\n",
              "    </tr>\n",
              "    <tr>\n",
              "      <th>51</th>\n",
              "      <td>1884016</td>\n",
              "      <td>f786731466d1ad</td>\n",
              "      <td>ea7356d48f0299</td>\n",
              "      <td>5f48fae9849f6a</td>\n",
              "      <td>0</td>\n",
              "      <td>7</td>\n",
              "      <td>407.1</td>\n",
              "      <td>3</td>\n",
              "      <td>1</td>\n",
              "      <td>3</td>\n",
              "      <td>8</td>\n",
              "      <td>1119</td>\n",
              "      <td>3</td>\n",
              "      <td>2</td>\n",
              "      <td>40.08</td>\n",
              "      <td>1901</td>\n",
              "      <td>squad</td>\n",
              "      <td>26</td>\n",
              "      <td>23</td>\n",
              "      <td>-1</td>\n",
              "      <td>0</td>\n",
              "      <td>4700.0</td>\n",
              "      <td>0</td>\n",
              "      <td>0.0</td>\n",
              "      <td>0</td>\n",
              "      <td>0</td>\n",
              "      <td>3444.0</td>\n",
              "      <td>6</td>\n",
              "      <td>1499</td>\n",
              "      <td>1.0000</td>\n",
              "    </tr>\n",
              "    <tr>\n",
              "      <th>54</th>\n",
              "      <td>2758270</td>\n",
              "      <td>561ef4973111ac</td>\n",
              "      <td>2ca5f2aad62180</td>\n",
              "      <td>cbc498c72bc773</td>\n",
              "      <td>1</td>\n",
              "      <td>0</td>\n",
              "      <td>198.0</td>\n",
              "      <td>1</td>\n",
              "      <td>1</td>\n",
              "      <td>1</td>\n",
              "      <td>36</td>\n",
              "      <td>1429</td>\n",
              "      <td>1</td>\n",
              "      <td>1</td>\n",
              "      <td>14.50</td>\n",
              "      <td>1364</td>\n",
              "      <td>squad-fpp</td>\n",
              "      <td>26</td>\n",
              "      <td>25</td>\n",
              "      <td>-1</td>\n",
              "      <td>0</td>\n",
              "      <td>0.0</td>\n",
              "      <td>0</td>\n",
              "      <td>0.0</td>\n",
              "      <td>0</td>\n",
              "      <td>0</td>\n",
              "      <td>130.5</td>\n",
              "      <td>1</td>\n",
              "      <td>1570</td>\n",
              "      <td>0.2400</td>\n",
              "    </tr>\n",
              "    <tr>\n",
              "      <th>66</th>\n",
              "      <td>3803963</td>\n",
              "      <td>dc07834c180bde</td>\n",
              "      <td>f7b9330fd1132c</td>\n",
              "      <td>f7318414d63a90</td>\n",
              "      <td>1</td>\n",
              "      <td>2</td>\n",
              "      <td>247.4</td>\n",
              "      <td>1</td>\n",
              "      <td>1</td>\n",
              "      <td>3</td>\n",
              "      <td>6</td>\n",
              "      <td>0</td>\n",
              "      <td>3</td>\n",
              "      <td>1</td>\n",
              "      <td>73.71</td>\n",
              "      <td>1459</td>\n",
              "      <td>squad-fpp</td>\n",
              "      <td>28</td>\n",
              "      <td>25</td>\n",
              "      <td>1416</td>\n",
              "      <td>2</td>\n",
              "      <td>0.0</td>\n",
              "      <td>0</td>\n",
              "      <td>0.0</td>\n",
              "      <td>0</td>\n",
              "      <td>0</td>\n",
              "      <td>2619.0</td>\n",
              "      <td>5</td>\n",
              "      <td>0</td>\n",
              "      <td>0.8148</td>\n",
              "    </tr>\n",
              "    <tr>\n",
              "      <th>...</th>\n",
              "      <td>...</td>\n",
              "      <td>...</td>\n",
              "      <td>...</td>\n",
              "      <td>...</td>\n",
              "      <td>...</td>\n",
              "      <td>...</td>\n",
              "      <td>...</td>\n",
              "      <td>...</td>\n",
              "      <td>...</td>\n",
              "      <td>...</td>\n",
              "      <td>...</td>\n",
              "      <td>...</td>\n",
              "      <td>...</td>\n",
              "      <td>...</td>\n",
              "      <td>...</td>\n",
              "      <td>...</td>\n",
              "      <td>...</td>\n",
              "      <td>...</td>\n",
              "      <td>...</td>\n",
              "      <td>...</td>\n",
              "      <td>...</td>\n",
              "      <td>...</td>\n",
              "      <td>...</td>\n",
              "      <td>...</td>\n",
              "      <td>...</td>\n",
              "      <td>...</td>\n",
              "      <td>...</td>\n",
              "      <td>...</td>\n",
              "      <td>...</td>\n",
              "      <td>...</td>\n",
              "    </tr>\n",
              "    <tr>\n",
              "      <th>1111713</th>\n",
              "      <td>2760844</td>\n",
              "      <td>79c80a1d10c430</td>\n",
              "      <td>74b2bce81c3bc5</td>\n",
              "      <td>088a24aefbaec6</td>\n",
              "      <td>1</td>\n",
              "      <td>4</td>\n",
              "      <td>449.8</td>\n",
              "      <td>3</td>\n",
              "      <td>1</td>\n",
              "      <td>7</td>\n",
              "      <td>3</td>\n",
              "      <td>0</td>\n",
              "      <td>5</td>\n",
              "      <td>2</td>\n",
              "      <td>68.09</td>\n",
              "      <td>1352</td>\n",
              "      <td>squad-fpp</td>\n",
              "      <td>28</td>\n",
              "      <td>27</td>\n",
              "      <td>1605</td>\n",
              "      <td>0</td>\n",
              "      <td>0.0</td>\n",
              "      <td>0</td>\n",
              "      <td>0.0</td>\n",
              "      <td>0</td>\n",
              "      <td>0</td>\n",
              "      <td>2966.0</td>\n",
              "      <td>7</td>\n",
              "      <td>0</td>\n",
              "      <td>0.9630</td>\n",
              "    </tr>\n",
              "    <tr>\n",
              "      <th>1111717</th>\n",
              "      <td>1676427</td>\n",
              "      <td>f5c0468c4866d5</td>\n",
              "      <td>7cccd055ffaefe</td>\n",
              "      <td>072c16df049d48</td>\n",
              "      <td>1</td>\n",
              "      <td>3</td>\n",
              "      <td>367.4</td>\n",
              "      <td>1</td>\n",
              "      <td>1</td>\n",
              "      <td>2</td>\n",
              "      <td>13</td>\n",
              "      <td>1346</td>\n",
              "      <td>2</td>\n",
              "      <td>1</td>\n",
              "      <td>112.90</td>\n",
              "      <td>1362</td>\n",
              "      <td>duo-fpp</td>\n",
              "      <td>46</td>\n",
              "      <td>44</td>\n",
              "      <td>-1</td>\n",
              "      <td>1</td>\n",
              "      <td>0.0</td>\n",
              "      <td>0</td>\n",
              "      <td>0.0</td>\n",
              "      <td>0</td>\n",
              "      <td>0</td>\n",
              "      <td>3271.0</td>\n",
              "      <td>7</td>\n",
              "      <td>1577</td>\n",
              "      <td>1.0000</td>\n",
              "    </tr>\n",
              "    <tr>\n",
              "      <th>1111722</th>\n",
              "      <td>619954</td>\n",
              "      <td>90ce43c21ca401</td>\n",
              "      <td>fe3297fddbfa32</td>\n",
              "      <td>91aa551b4b76a6</td>\n",
              "      <td>0</td>\n",
              "      <td>3</td>\n",
              "      <td>432.5</td>\n",
              "      <td>1</td>\n",
              "      <td>1</td>\n",
              "      <td>5</td>\n",
              "      <td>13</td>\n",
              "      <td>0</td>\n",
              "      <td>2</td>\n",
              "      <td>1</td>\n",
              "      <td>54.62</td>\n",
              "      <td>1363</td>\n",
              "      <td>squad-fpp</td>\n",
              "      <td>25</td>\n",
              "      <td>25</td>\n",
              "      <td>1648</td>\n",
              "      <td>0</td>\n",
              "      <td>2734.0</td>\n",
              "      <td>0</td>\n",
              "      <td>152.3</td>\n",
              "      <td>0</td>\n",
              "      <td>0</td>\n",
              "      <td>2512.0</td>\n",
              "      <td>5</td>\n",
              "      <td>0</td>\n",
              "      <td>0.9167</td>\n",
              "    </tr>\n",
              "    <tr>\n",
              "      <th>1111723</th>\n",
              "      <td>2925622</td>\n",
              "      <td>992ffcec71aaa0</td>\n",
              "      <td>e96faa66efd3aa</td>\n",
              "      <td>ec2e688f651285</td>\n",
              "      <td>0</td>\n",
              "      <td>0</td>\n",
              "      <td>157.0</td>\n",
              "      <td>1</td>\n",
              "      <td>1</td>\n",
              "      <td>0</td>\n",
              "      <td>19</td>\n",
              "      <td>0</td>\n",
              "      <td>2</td>\n",
              "      <td>2</td>\n",
              "      <td>10.94</td>\n",
              "      <td>1340</td>\n",
              "      <td>duo-fpp</td>\n",
              "      <td>50</td>\n",
              "      <td>45</td>\n",
              "      <td>1474</td>\n",
              "      <td>0</td>\n",
              "      <td>0.0</td>\n",
              "      <td>0</td>\n",
              "      <td>0.0</td>\n",
              "      <td>0</td>\n",
              "      <td>0</td>\n",
              "      <td>224.5</td>\n",
              "      <td>2</td>\n",
              "      <td>0</td>\n",
              "      <td>0.2041</td>\n",
              "    </tr>\n",
              "    <tr>\n",
              "      <th>1111729</th>\n",
              "      <td>78370</td>\n",
              "      <td>b5fa7d80480418</td>\n",
              "      <td>69675b37746877</td>\n",
              "      <td>d7014101ef2efd</td>\n",
              "      <td>1</td>\n",
              "      <td>4</td>\n",
              "      <td>399.9</td>\n",
              "      <td>2</td>\n",
              "      <td>1</td>\n",
              "      <td>4</td>\n",
              "      <td>11</td>\n",
              "      <td>0</td>\n",
              "      <td>2</td>\n",
              "      <td>1</td>\n",
              "      <td>32.72</td>\n",
              "      <td>1855</td>\n",
              "      <td>squad-fpp</td>\n",
              "      <td>27</td>\n",
              "      <td>25</td>\n",
              "      <td>1394</td>\n",
              "      <td>0</td>\n",
              "      <td>0.0</td>\n",
              "      <td>0</td>\n",
              "      <td>0.0</td>\n",
              "      <td>0</td>\n",
              "      <td>0</td>\n",
              "      <td>3945.0</td>\n",
              "      <td>5</td>\n",
              "      <td>0</td>\n",
              "      <td>0.8077</td>\n",
              "    </tr>\n",
              "  </tbody>\n",
              "</table>\n",
              "<p>144068 rows × 30 columns</p>\n",
              "</div>"
            ],
            "text/plain": [
              "         Unnamed: 0              Id  ... winPoints winPlacePerc\n",
              "43          3067187  f9970ab7f174a3  ...      1494       0.6701\n",
              "48           451501  69cc179102b606  ...      1563       0.8148\n",
              "51          1884016  f786731466d1ad  ...      1499       1.0000\n",
              "54          2758270  561ef4973111ac  ...      1570       0.2400\n",
              "66          3803963  dc07834c180bde  ...         0       0.8148\n",
              "...             ...             ...  ...       ...          ...\n",
              "1111713     2760844  79c80a1d10c430  ...         0       0.9630\n",
              "1111717     1676427  f5c0468c4866d5  ...      1577       1.0000\n",
              "1111722      619954  90ce43c21ca401  ...         0       0.9167\n",
              "1111723     2925622  992ffcec71aaa0  ...         0       0.2041\n",
              "1111729       78370  b5fa7d80480418  ...         0       0.8077\n",
              "\n",
              "[144068 rows x 30 columns]"
            ]
          },
          "metadata": {
            "tags": []
          },
          "execution_count": 23
        }
      ]
    },
    {
      "cell_type": "code",
      "metadata": {
        "colab": {
          "base_uri": "https://localhost:8080/",
          "height": 350
        },
        "id": "LM-WlFAQNSxq",
        "outputId": "bc69dd21-7193-4765-da2d-e789bc58df42"
      },
      "source": [
        "sns.distplot(df.kills)"
      ],
      "execution_count": 26,
      "outputs": [
        {
          "output_type": "stream",
          "text": [
            "/usr/local/lib/python3.7/dist-packages/seaborn/distributions.py:2557: FutureWarning: `distplot` is a deprecated function and will be removed in a future version. Please adapt your code to use either `displot` (a figure-level function with similar flexibility) or `histplot` (an axes-level function for histograms).\n",
            "  warnings.warn(msg, FutureWarning)\n"
          ],
          "name": "stderr"
        },
        {
          "output_type": "execute_result",
          "data": {
            "text/plain": [
              "<matplotlib.axes._subplots.AxesSubplot at 0x7f8bb0c6aad0>"
            ]
          },
          "metadata": {
            "tags": []
          },
          "execution_count": 26
        },
        {
          "output_type": "display_data",
          "data": {
            "image/png": "[encoded data removed]",
            "text/plain": [
              "<Figure size 432x288 with 1 Axes>"
            ]
          },
          "metadata": {
            "tags": [],
            "needs_background": "light"
          }
        }
      ]
    },
    {
      "cell_type": "code",
      "metadata": {
        "id": "KzvY0qBPNYri"
      },
      "source": [
        "data1 = df[(df['kills']== 3) | (df['kills']== 4) |(df['kills']== 5) ]\n",
        "data2 = data1[['winPlacePerc']]"
      ],
      "execution_count": 27,
      "outputs": []
    },
    {
      "cell_type": "code",
      "metadata": {
        "id": "4Ik3HUMDNx4k"
      },
      "source": [
        "def z_score(sample_size, sample_mean, pop_mean, pop_std):\n",
        "    numerator = sample_mean - pop_mean\n",
        "    denomenator = pop_std / sample_size**0.5\n",
        "    return numerator / denomenator"
      ],
      "execution_count": 28,
      "outputs": []
    },
    {
      "cell_type": "code",
      "metadata": {
        "id": "5jm6k1tjN00F"
      },
      "source": [
        "import random"
      ],
      "execution_count": 29,
      "outputs": []
    },
    {
      "cell_type": "code",
      "metadata": {
        "colab": {
          "base_uri": "https://localhost:8080/"
        },
        "id": "AMmvrbC2N3C4",
        "outputId": "28b39fbb-cad4-4943-b725-c1aee530e8b3"
      },
      "source": [
        "samples = random.sample(range(0, data2.shape[0]), 100)\n",
        "sample_mean = data2.iloc[samples, 0].mean()\n",
        "print(sample_mean)"
      ],
      "execution_count": 30,
      "outputs": [
        {
          "output_type": "stream",
          "text": [
            "0.7626329999999996\n"
          ],
          "name": "stdout"
        }
      ]
    },
    {
      "cell_type": "code",
      "metadata": {
        "colab": {
          "base_uri": "https://localhost:8080/"
        },
        "id": "tkAMN8nfN48D",
        "outputId": "5cc5047f-d929-4966-d025-d0a4ff07512d"
      },
      "source": [
        "std = df['winPlacePerc'].std()\n",
        "print(std)"
      ],
      "execution_count": 32,
      "outputs": [
        {
          "output_type": "stream",
          "text": [
            "0.3073770038081635\n"
          ],
          "name": "stdout"
        }
      ]
    },
    {
      "cell_type": "code",
      "metadata": {
        "id": "OMTOu86wN7E-"
      },
      "source": [
        "from scipy.stats import norm"
      ],
      "execution_count": 33,
      "outputs": []
    },
    {
      "cell_type": "code",
      "metadata": {
        "colab": {
          "base_uri": "https://localhost:8080/"
        },
        "id": "uL82P9HrN_pN",
        "outputId": "a43048d0-c100-47f9-b1c8-8433a8ccb02c"
      },
      "source": [
        "confidence_level = 0.95\n",
        "\n",
        "alpha = 1 - confidence_level\n",
        "\n",
        "z_critical = norm.ppf(1 - alpha)\n",
        "\n",
        "print(z_critical)"
      ],
      "execution_count": 34,
      "outputs": [
        {
          "output_type": "stream",
          "text": [
            "1.6448536269514722\n"
          ],
          "name": "stdout"
        }
      ]
    },
    {
      "cell_type": "code",
      "metadata": {
        "colab": {
          "base_uri": "https://localhost:8080/"
        },
        "id": "W0LfNrDiOB3J",
        "outputId": "7fbfff7c-1af4-4fa1-d833-49cdae15ab13"
      },
      "source": [
        "sample_size = 100\n",
        "sample_mean = sample_mean\n",
        "pop_mean = data2['winPlacePerc'].mean()\n",
        "pop_std = std\n",
        "print(pop_mean)"
      ],
      "execution_count": 35,
      "outputs": [
        {
          "output_type": "stream",
          "text": [
            "0.7428983998565725\n"
          ],
          "name": "stdout"
        }
      ]
    },
    {
      "cell_type": "code",
      "metadata": {
        "colab": {
          "base_uri": "https://localhost:8080/"
        },
        "id": "5Vuw86olODoF",
        "outputId": "bfbbefb2-3e7d-4692-b488-f709c367d7fc"
      },
      "source": [
        "z = z_score(sample_size, sample_mean, pop_mean, pop_std)\n",
        "print(z)"
      ],
      "execution_count": 36,
      "outputs": [
        {
          "output_type": "stream",
          "text": [
            "0.6420324194370644\n"
          ],
          "name": "stdout"
        }
      ]
    },
    {
      "cell_type": "code",
      "metadata": {
        "colab": {
          "base_uri": "https://localhost:8080/",
          "height": 282
        },
        "id": "fV78kbspOGmw",
        "outputId": "b237ce53-5433-43a8-bf56-f814a7190b99"
      },
      "source": [
        "# Ploting the sampling distribution with rejection regions\n",
        "\n",
        "# Defining the x minimum and x maximum\n",
        "x_min = 0.5\n",
        "x_max = 1\n",
        "\n",
        "\n",
        "# Defining the sampling distribution mean and sampling distribution std\n",
        "mean = pop_mean\n",
        "std = pop_std / sample_size**0.5\n",
        "\n",
        "\n",
        "# Ploting the graph and setting the x limits\n",
        "x = np.linspace(x_min, x_max, 100)\n",
        "y = norm.pdf(x, mean, std)\n",
        "plt.xlim(x_min, x_max)\n",
        "plt.plot(x, y)\n",
        "\n",
        "\n",
        "# Computing the left critical value (left tailed Test)\n",
        "z_critical_left = pop_mean - (z_critical * std)\n",
        "\n",
        "\n",
        "# Shading the left rejection region\n",
        "x2 = np.linspace(x_min, z_critical_left, 100)\n",
        "y2 = norm.pdf(x2, mean, std)\n",
        "plt.fill_between(x2, y2, color='orange')\n",
        "\n",
        "\n",
        "# Ploting the sample mean and concluding the results \n",
        "plt.scatter(sample_mean, 0)\n",
        "plt.annotate(\"x_bar\", (sample_mean, 0.0007))"
      ],
      "execution_count": 37,
      "outputs": [
        {
          "output_type": "execute_result",
          "data": {
            "text/plain": [
              "Text(0.7626329999999996, 0.0007, 'x_bar')"
            ]
          },
          "metadata": {
            "tags": []
          },
          "execution_count": 37
        },
        {
          "output_type": "display_data",
          "data": {
            "image/png": "[encoded data removed]",
            "text/plain": [
              "<Figure size 432x288 with 1 Axes>"
            ]
          },
          "metadata": {
            "tags": [],
            "needs_background": "light"
          }
        }
      ]
    },
    {
      "cell_type": "code",
      "metadata": {
        "colab": {
          "base_uri": "https://localhost:8080/"
        },
        "id": "b-Hd-4-sOMaz",
        "outputId": "df94f27b-9dd7-4539-9294-ba092074aa00"
      },
      "source": [
        "if(np.abs(z) > z_critical):\n",
        "    print(\"Reject Null Hypothesis\")\n",
        "else:\n",
        "    print(\"Fail to reject Null Hypothesis\")"
      ],
      "execution_count": 38,
      "outputs": [
        {
          "output_type": "stream",
          "text": [
            "Fail to reject Null Hypothesis\n"
          ],
          "name": "stdout"
        }
      ]
    },
    {
      "cell_type": "code",
      "metadata": {
        "colab": {
          "base_uri": "https://localhost:8080/"
        },
        "id": "tbydLV4iOO8c",
        "outputId": "b442bcd9-adb8-4017-bd3f-f2a65c95fae1"
      },
      "source": [
        "p_value = 2 * (1.0 - norm.cdf(np.abs(z)))\n",
        "\n",
        "print(\"p_value = \", p_value)\n",
        "\n",
        "if(p_value < alpha):\n",
        "    print(\"Reject Null Hypothesis\")\n",
        "else:\n",
        "    print(\"Fail to reject Null Hypothesis\")"
      ],
      "execution_count": 39,
      "outputs": [
        {
          "output_type": "stream",
          "text": [
            "p_value =  0.5208521335506557\n",
            "Fail to reject Null Hypothesis\n"
          ],
          "name": "stdout"
        }
      ]
    },
    {
      "cell_type": "code",
      "metadata": {
        "id": "RkyNZRBCORK5"
      },
      "source": [
        ""
      ],
      "execution_count": null,
      "outputs": []
    }
  ]
}