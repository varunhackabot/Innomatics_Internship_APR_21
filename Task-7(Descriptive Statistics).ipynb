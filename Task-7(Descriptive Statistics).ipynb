{
  "nbformat": 4,
  "nbformat_minor": 0,
  "metadata": {
    "colab": {
      "name": "Task-7(Descriptive Statistics).ipynb",
      "provenance": []
    },
    "kernelspec": {
      "name": "python3",
      "display_name": "Python 3"
    },
    "language_info": {
      "name": "python"
    }
  },
  "cells": [
    {
      "cell_type": "code",
      "metadata": {
        "id": "iWRs-fEo1-EP"
      },
      "source": [
        "import numpy as np\n",
        "import pandas as pd\n",
        "import seaborn as sns\n",
        "import statistics\n",
        "from collections import Counter\n",
        "import math\n",
        "import scipy.stats\n",
        "import pylab \n",
        "import scipy.stats as stats\n",
        "import matplotlib.pyplot as plt"
      ],
      "execution_count": 45,
      "outputs": []
    },
    {
      "cell_type": "code",
      "metadata": {
        "colab": {
          "resources": {
            "http://localhost:8080/nbextensions/google.colab/files.js": {
              "data": "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",
              "ok": true,
              "headers": [
                [
                  "content-type",
                  "application/javascript"
                ]
              ],
              "status": 200,
              "status_text": ""
            }
          },
          "base_uri": "https://localhost:8080/",
          "height": 72
        },
        "id": "_vTU-UV1CwRr",
        "outputId": "83500476-634a-4e39-bff7-afd3d760fa86"
      },
      "source": [
        "from google.colab import files\n",
        "uploaded = files.upload()"
      ],
      "execution_count": 2,
      "outputs": [
        {
          "output_type": "display_data",
          "data": {
            "text/html": [
              "\n",
              "     <input type=\"file\" id=\"files-cf325bc5-5fd2-4a9d-8886-1b5f43a6c878\" name=\"files[]\" multiple disabled\n",
              "        style=\"border:none\" />\n",
              "     <output id=\"result-cf325bc5-5fd2-4a9d-8886-1b5f43a6c878\">\n",
              "      Upload widget is only available when the cell has been executed in the\n",
              "      current browser session. Please rerun this cell to enable.\n",
              "      </output>\n",
              "      <script src=\"/nbextensions/google.colab/files.js\"></script> "
            ],
            "text/plain": [
              "<IPython.core.display.HTML object>"
            ]
          },
          "metadata": {
            "tags": []
          }
        },
        {
          "output_type": "stream",
          "text": [
            "Saving data (1).csv to data (1).csv\n"
          ],
          "name": "stdout"
        }
      ]
    },
    {
      "cell_type": "code",
      "metadata": {
        "id": "rxn-FM3E2Tbr"
      },
      "source": [
        "df = pd.read_csv('data (1).csv')"
      ],
      "execution_count": 3,
      "outputs": []
    },
    {
      "cell_type": "code",
      "metadata": {
        "colab": {
          "base_uri": "https://localhost:8080/",
          "height": 204
        },
        "id": "2Nt94Z-jC-it",
        "outputId": "23be8cda-b776-455d-a91d-0d842d2fb1a6"
      },
      "source": [
        "df.head()"
      ],
      "execution_count": 4,
      "outputs": [
        {
          "output_type": "execute_result",
          "data": {
            "text/html": [
              "<div>\n",
              "<style scoped>\n",
              "    .dataframe tbody tr th:only-of-type {\n",
              "        vertical-align: middle;\n",
              "    }\n",
              "\n",
              "    .dataframe tbody tr th {\n",
              "        vertical-align: top;\n",
              "    }\n",
              "\n",
              "    .dataframe thead th {\n",
              "        text-align: right;\n",
              "    }\n",
              "</style>\n",
              "<table border=\"1\" class=\"dataframe\">\n",
              "  <thead>\n",
              "    <tr style=\"text-align: right;\">\n",
              "      <th></th>\n",
              "      <th>Mthly_HH_Income</th>\n",
              "      <th>Mthly_HH_Expense</th>\n",
              "      <th>No_of_Fly_Members</th>\n",
              "      <th>Emi_or_Rent_Amt</th>\n",
              "      <th>Annual_HH_Income</th>\n",
              "      <th>Highest_Qualified_Member</th>\n",
              "      <th>No_of_Earning_Members</th>\n",
              "    </tr>\n",
              "  </thead>\n",
              "  <tbody>\n",
              "    <tr>\n",
              "      <th>0</th>\n",
              "      <td>5000</td>\n",
              "      <td>8000</td>\n",
              "      <td>3</td>\n",
              "      <td>2000</td>\n",
              "      <td>64200</td>\n",
              "      <td>Under-Graduate</td>\n",
              "      <td>1</td>\n",
              "    </tr>\n",
              "    <tr>\n",
              "      <th>1</th>\n",
              "      <td>6000</td>\n",
              "      <td>7000</td>\n",
              "      <td>2</td>\n",
              "      <td>3000</td>\n",
              "      <td>79920</td>\n",
              "      <td>Illiterate</td>\n",
              "      <td>1</td>\n",
              "    </tr>\n",
              "    <tr>\n",
              "      <th>2</th>\n",
              "      <td>10000</td>\n",
              "      <td>4500</td>\n",
              "      <td>2</td>\n",
              "      <td>0</td>\n",
              "      <td>112800</td>\n",
              "      <td>Under-Graduate</td>\n",
              "      <td>1</td>\n",
              "    </tr>\n",
              "    <tr>\n",
              "      <th>3</th>\n",
              "      <td>10000</td>\n",
              "      <td>2000</td>\n",
              "      <td>1</td>\n",
              "      <td>0</td>\n",
              "      <td>97200</td>\n",
              "      <td>Illiterate</td>\n",
              "      <td>1</td>\n",
              "    </tr>\n",
              "    <tr>\n",
              "      <th>4</th>\n",
              "      <td>12500</td>\n",
              "      <td>12000</td>\n",
              "      <td>2</td>\n",
              "      <td>3000</td>\n",
              "      <td>147000</td>\n",
              "      <td>Graduate</td>\n",
              "      <td>1</td>\n",
              "    </tr>\n",
              "  </tbody>\n",
              "</table>\n",
              "</div>"
            ],
            "text/plain": [
              "   Mthly_HH_Income  ...  No_of_Earning_Members\n",
              "0             5000  ...                      1\n",
              "1             6000  ...                      1\n",
              "2            10000  ...                      1\n",
              "3            10000  ...                      1\n",
              "4            12500  ...                      1\n",
              "\n",
              "[5 rows x 7 columns]"
            ]
          },
          "metadata": {
            "tags": []
          },
          "execution_count": 4
        }
      ]
    },
    {
      "cell_type": "markdown",
      "metadata": {
        "id": "6i80jsck9JxS"
      },
      "source": [
        "MEAN\n"
      ]
    },
    {
      "cell_type": "markdown",
      "metadata": {
        "id": "Y9UNn470-A2-"
      },
      "source": [
        "Mean is average of all datapoints in a dataset.Mean is found by adding all the figures within the data set and then dividing by the number of figures within the set."
      ]
    },
    {
      "cell_type": "markdown",
      "metadata": {
        "id": "gShCXeOc9gfR"
      },
      "source": [
        "Mean formula is:\n",
        "$a=\\frac{1}{n}\\sum_{i=1}^n a^i$"
      ]
    },
    {
      "cell_type": "markdown",
      "metadata": {
        "id": "u5OOwWyJDaXk"
      },
      "source": [
        "Mean of monthly income without using libraries"
      ]
    },
    {
      "cell_type": "code",
      "metadata": {
        "colab": {
          "base_uri": "https://localhost:8080/"
        },
        "id": "Nm5F_SNUDghD",
        "outputId": "c8448294-0d2d-4670-e01b-02ab894c17d2"
      },
      "source": [
        "\n",
        "a = df['Mthly_HH_Income']\n",
        "b = 0\n",
        "for i in range(len(a)):\n",
        "  b+=a[i]\n",
        "l= (b/len(a))\n",
        "print(l)"
      ],
      "execution_count": 12,
      "outputs": [
        {
          "output_type": "stream",
          "text": [
            "41558.0\n"
          ],
          "name": "stdout"
        }
      ]
    },
    {
      "cell_type": "markdown",
      "metadata": {
        "id": "2HW8KvsrD_Zw"
      },
      "source": [
        "Mean of monthly income using libraries"
      ]
    },
    {
      "cell_type": "code",
      "metadata": {
        "colab": {
          "base_uri": "https://localhost:8080/"
        },
        "id": "jXOkJP-fDZMC",
        "outputId": "0ed15fc2-80de-4471-bd98-8fc18a293cc6"
      },
      "source": [
        "a = np.mean(df['Mthly_HH_Income'])\n",
        "print(a)"
      ],
      "execution_count": 6,
      "outputs": [
        {
          "output_type": "stream",
          "text": [
            "41558.0\n"
          ],
          "name": "stdout"
        }
      ]
    },
    {
      "cell_type": "markdown",
      "metadata": {
        "id": "gDwj-CmbEXAc"
      },
      "source": [
        "# **MEDIAN**\n",
        "\n",
        "\n",
        "\n",
        "The midpoint value of a data set for which an equal number of samples are less than and greater than the value.\n",
        "\n",
        " For an odd sample size, this is the middle element of the sorted sample.\n",
        "\n",
        "If the numbers are\n",
        "\n",
        " 2,3,5,7,4,2,5\n",
        " \n",
        " Firstly arrange them in ascending order Then if it is an odd sample then formula for median is:\n",
        "\n",
        "\n",
        "$a = \\frac{n}{2}$.\n",
        "\n",
        "For an even sampe size, this is the middle and next element of the sorted sample.\n",
        "\n",
        "If the numbers are \n",
        "\n",
        "2,3,5,7,3,2\n",
        "\n",
        "Firstly arrange them in ascending order.Then if its is evem sample then the formula for the median is:\n",
        "\n",
        "$a = \\frac{n(n+1)}{2}$\n",
        "\n",
        "\n",
        "\n",
        "\n"
      ]
    },
    {
      "cell_type": "code",
      "metadata": {
        "id": "h6Z_8Vr1C_8W",
        "colab": {
          "base_uri": "https://localhost:8080/"
        },
        "outputId": "63e98933-f7bb-4512-d128-1e9f3bc8258c"
      },
      "source": [
        "def my_median(sample):\n",
        "  n = len(sample)\n",
        "  index = n // 2\n",
        "  if n % 2:\n",
        "    return sorted(sample)[index]\n",
        "  return (sum(sorted(sample)[index - 1:index + 1]))/2\n",
        "\n",
        "my_median(a)"
      ],
      "execution_count": 19,
      "outputs": [
        {
          "output_type": "execute_result",
          "data": {
            "text/plain": [
              "35000.0"
            ]
          },
          "metadata": {
            "tags": []
          },
          "execution_count": 19
        }
      ]
    },
    {
      "cell_type": "code",
      "metadata": {
        "id": "1pOheaEiHzW-",
        "colab": {
          "base_uri": "https://localhost:8080/"
        },
        "outputId": "ab82adc7-b8fe-47e9-dd50-57c01187a4c2"
      },
      "source": [
        "#USING IN-BUILT FUNCTIONS\n",
        "statistics.median(a)"
      ],
      "execution_count": 20,
      "outputs": [
        {
          "output_type": "execute_result",
          "data": {
            "text/plain": [
              "35000.0"
            ]
          },
          "metadata": {
            "tags": []
          },
          "execution_count": 20
        }
      ]
    },
    {
      "cell_type": "markdown",
      "metadata": {
        "id": "8kMenv99XkKN"
      },
      "source": [
        "# MODE\n",
        "Mode is used to find the most frequent value in a sample or population.For example if the sample is\n",
        "\n",
        "2,3,4,5,4,4,3,4,2\n",
        "\n",
        "Then the mode will be 4 as it is most frequent number."
      ]
    },
    {
      "cell_type": "code",
      "metadata": {
        "colab": {
          "base_uri": "https://localhost:8080/"
        },
        "id": "ZmUqz36MYP1T",
        "outputId": "e84ba68c-64c3-4212-ee10-9cb471fb5b20"
      },
      "source": [
        "def my_mode(sample):\n",
        "  c = Counter(sample)\n",
        "  return [k for k, v in c.items() if v == c.most_common(1)[0][1]]\\\n",
        "\n",
        "my_mode(a)\n"
      ],
      "execution_count": 22,
      "outputs": [
        {
          "output_type": "execute_result",
          "data": {
            "text/plain": [
              "[45000]"
            ]
          },
          "metadata": {
            "tags": []
          },
          "execution_count": 22
        }
      ]
    },
    {
      "cell_type": "code",
      "metadata": {
        "colab": {
          "base_uri": "https://localhost:8080/"
        },
        "id": "X5nyiD5tH0hg",
        "outputId": "c221f461-b98d-40f3-9fee-6f8355f793c1"
      },
      "source": [
        "statistics.mode(a)"
      ],
      "execution_count": 23,
      "outputs": [
        {
          "output_type": "execute_result",
          "data": {
            "text/plain": [
              "45000"
            ]
          },
          "metadata": {
            "tags": []
          },
          "execution_count": 23
        }
      ]
    },
    {
      "cell_type": "markdown",
      "metadata": {
        "id": "wMUuI3hyY9OP"
      },
      "source": [
        "# VARIANCE\n",
        "\n",
        "Variance is measure of spread and tells us squared difference distance between mean and sample points.\n",
        "\n",
        "$a^2 = \\frac{\\sum_{}(xi-\\bar{x})^2}{n-1}$\n",
        "\n",
        "For example the sample of a population is \n",
        "\n",
        "2,4,5,6,7,8,3\n",
        "\n",
        "$\\bar{x} = \\frac{2+4+5+6+7+8+3}{7} == 5$\n",
        "\n",
        "$\\frac{\\sum_{}(xi-\\bar{x})^2}{n-1}$ = 4.667 "
      ]
    },
    {
      "cell_type": "code",
      "metadata": {
        "id": "b0B78uLzI6ig",
        "colab": {
          "base_uri": "https://localhost:8080/"
        },
        "outputId": "c88d11ce-5f4a-4252-881a-d71aa3b83a9b"
      },
      "source": [
        "# WITHOUT LIBRARIES\n",
        "def variance(data):\n",
        "  n = len(data)\n",
        "  mean = sum(data) / n\n",
        "  deviations = [(x - mean) ** 2 for x in data]\n",
        "  variance = sum(deviations) / n\n",
        "  return variance\n",
        "\n",
        "variance(a)"
      ],
      "execution_count": 24,
      "outputs": [
        {
          "output_type": "execute_result",
          "data": {
            "text/plain": [
              "667478836.0"
            ]
          },
          "metadata": {
            "tags": []
          },
          "execution_count": 24
        }
      ]
    },
    {
      "cell_type": "code",
      "metadata": {
        "colab": {
          "base_uri": "https://localhost:8080/"
        },
        "id": "M7mgtc9wZO1K",
        "outputId": "f5fc8202-f9df-45bc-9148-a0ac648415dc"
      },
      "source": [
        "#USING LIBRARIES\n",
        "statistics.pvariance(a)"
      ],
      "execution_count": 26,
      "outputs": [
        {
          "output_type": "execute_result",
          "data": {
            "text/plain": [
              "667478836"
            ]
          },
          "metadata": {
            "tags": []
          },
          "execution_count": 26
        }
      ]
    },
    {
      "cell_type": "markdown",
      "metadata": {
        "id": "-uBACR50ZewF"
      },
      "source": [
        "# STANDARD DEVIATION\n",
        "\n",
        "Standard deviation is measure of spread which tells amount of variation from datapoints in a sample from a population.If standard deviation is small it tells us the datapoint is close to mean, while if standard deviation is large, it tells us the datapoint is far from mean.\n",
        "\n",
        "s = $\\sqrt(variance)$\n",
        "\n",
        "For example the sample of a population is \n",
        "\n",
        "2,4,5,6,7,8,3\n",
        "\n",
        "$\\bar{x} = \\frac{2+4+5+6+7+8+3}{7} == 5$\n",
        "\n",
        "$\\frac{\\sum_{}(x_i-\\bar{x})^2}{n-1}$ = 4.667 \n",
        "\n",
        "$std = \\sqrt(var)$\n",
        "\n",
        "std = 2.160"
      ]
    },
    {
      "cell_type": "code",
      "metadata": {
        "colab": {
          "base_uri": "https://localhost:8080/"
        },
        "id": "V4O_u4DkZh0x",
        "outputId": "433e8858-a3ff-4045-efdd-0d61c182da7e"
      },
      "source": [
        "#WITHOUT USING LIBRARIES\n",
        "def standard_deviation(data):\n",
        "  n = len(data)\n",
        "  mean = sum(data) / n\n",
        "  deviations = [(x - mean) ** 2 for x in data]\n",
        "  variance = sum(deviations) / n\n",
        "  std_dev = math.sqrt(variance)\n",
        "  return std_dev\n",
        "\n",
        "standard_deviation(a)"
      ],
      "execution_count": 30,
      "outputs": [
        {
          "output_type": "execute_result",
          "data": {
            "text/plain": [
              "25835.611779092826"
            ]
          },
          "metadata": {
            "tags": []
          },
          "execution_count": 30
        }
      ]
    },
    {
      "cell_type": "code",
      "metadata": {
        "colab": {
          "base_uri": "https://localhost:8080/"
        },
        "id": "b_3ph6SdZXs0",
        "outputId": "0c81fec8-d775-490e-d5d3-6e6f56fa6051"
      },
      "source": [
        "#USING LIBRARIES\n",
        "statistics.pstdev(a)"
      ],
      "execution_count": 31,
      "outputs": [
        {
          "output_type": "execute_result",
          "data": {
            "text/plain": [
              "25835.611779092826"
            ]
          },
          "metadata": {
            "tags": []
          },
          "execution_count": 31
        }
      ]
    },
    {
      "cell_type": "markdown",
      "metadata": {
        "id": "iukHHgrpbIP1"
      },
      "source": [
        "# CORRELATION\n",
        "\n",
        "Correlation is a statistic that measures the degree to which two variables move in relation to each other.\n",
        "Correlation shows the strength of a relationship between two variables and is expressed numerically by the correlation coefficient. The correlation coefficient's values range between -1.0 and 1.0.\n",
        "\n",
        "$r = \\frac{\\sum{}(x_i-\\bar{x})(y_i-\\bar{y})}{\\sqrt{\\sum{}(x_i-\\bar{x})^2\\sum{}(y_i-\\bar{y})^2}}$\n",
        "\n"
      ]
    },
    {
      "cell_type": "code",
      "metadata": {
        "id": "6TgpgzcfcMbJ"
      },
      "source": [
        "#WITHOUT USING LIBRARIES\n",
        "def correlation(x,y,mx,my):\n",
        "  a = 0\n",
        "  for i in range(len(x)):\n",
        "    for j in range(len(y)):\n",
        "      a = np.multiply(sum((x[i]-mx),(y[i]-my)))\n",
        "      x_sum = sum((x[i]-mx)**2)\n",
        "      y_sum = sum((y[i]-my)**2)\n",
        "    return a/np.sqrt(x_sum*y_sum)\n",
        "\n",
        "a = df['Mthly_HH_Income']\n",
        "b = df['Mthly_HH_Expense']\n",
        "correlation(a,b,a.mean(),b.mean())"
      ],
      "execution_count": 39,
      "outputs": []
    },
    {
      "cell_type": "code",
      "metadata": {
        "colab": {
          "base_uri": "https://localhost:8080/"
        },
        "id": "KLrhr064aUc0",
        "outputId": "46966f1c-def6-45b5-8710-a7ab3f2f4ed7"
      },
      "source": [
        "#USING LIBRARIES\n",
        "a = df['Mthly_HH_Income']\n",
        "b = df['Mthly_HH_Expense']\n",
        "scipy.stats.pearsonr(a,b) "
      ],
      "execution_count": 41,
      "outputs": [
        {
          "output_type": "execute_result",
          "data": {
            "text/plain": [
              "(0.6492152549316461, 3.396855982145655e-07)"
            ]
          },
          "metadata": {
            "tags": []
          },
          "execution_count": 41
        }
      ]
    },
    {
      "cell_type": "markdown",
      "metadata": {
        "id": "85pZPsTFg_Ip"
      },
      "source": [
        "### NORMAL DISTRIBUTION\n",
        "\n",
        "A normal distribution is a bell curve which is used for continuous probability distribution.In normal distribution, mean=median=mode.\n",
        "Mean, median and mode are found at center of the graph.It is symmetric in nature.\n",
        "\n",
        "$f(x) = \\frac{1}{\\sigma\\sqrt{2\\pi}}e^-\\frac{1}{2}(\\frac{x-\\mu}{\\sigma}^2)$\n",
        "\n",
        "POSITVELY SKEWED\n",
        "\n",
        "In a positively skewed normal distribution mean is less than median.![positive.jpg](data:image/jpeg;base64,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)\n",
        "\n",
        "NEGATIVELY SKEWED\n",
        "\n",
        "In a negatively skewed normal distribution mean is greater than median.![negative.png](data:image/png;base64,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)"
      ]
    },
    {
      "cell_type": "code",
      "metadata": {
        "colab": {
          "base_uri": "https://localhost:8080/",
          "height": 362
        },
        "id": "_11QjT3e1Q4X",
        "outputId": "7ab4f261-2ffa-40b4-800f-f8b223b9c149"
      },
      "source": [
        "sns.distplot(a,hist=False)"
      ],
      "execution_count": 49,
      "outputs": [
        {
          "output_type": "stream",
          "text": [
            "/usr/local/lib/python3.7/dist-packages/seaborn/distributions.py:2557: FutureWarning: `distplot` is a deprecated function and will be removed in a future version. Please adapt your code to use either `displot` (a figure-level function with similar flexibility) or `kdeplot` (an axes-level function for kernel density plots).\n",
            "  warnings.warn(msg, FutureWarning)\n"
          ],
          "name": "stderr"
        },
        {
          "output_type": "execute_result",
          "data": {
            "text/plain": [
              "<matplotlib.axes._subplots.AxesSubplot at 0x7fd6e0f99110>"
            ]
          },
          "metadata": {
            "tags": []
          },
          "execution_count": 49
        },
        {
          "output_type": "display_data",
          "data": {
            "image/png": "[encoded data removed]",
            "text/plain": [
              "<Figure size 432x288 with 1 Axes>"
            ]
          },
          "metadata": {
            "tags": [],
            "needs_background": "light"
          }
        }
      ]
    },
    {
      "cell_type": "markdown",
      "metadata": {
        "id": "WfutVjWhhWX9"
      },
      "source": [
        "## QQPLOT\n",
        "\n",
        "A Q-Q plot is a scatterplot created by plotting two sets of quantiles against one another. If both sets of quantiles came from the same distribution,then the points forming a line that’s roughly straight. It takes sample data, and sort it in ascending order, and then plot them versus quantiles calculated from a theoretical distribution. The number of quantiles is selected to match the size of your sample data. While Normal Q-Q Plots are the ones most often used in practice due to so many statistical methods assuming normality, Q-Q Plots can actually be created for any distribution.\n",
        "\n"
      ]
    },
    {
      "cell_type": "code",
      "metadata": {
        "colab": {
          "base_uri": "https://localhost:8080/",
          "height": 295
        },
        "id": "Rc7o_LxobOEP",
        "outputId": "8d0af3b0-3768-4593-f5e4-332d14ee0bc3"
      },
      "source": [
        "measurements = df['Annual_HH_Income']  \n",
        "stats.probplot(measurements, dist=\"norm\", plot=pylab)\n",
        "pylab.show()"
      ],
      "execution_count": 44,
      "outputs": [
        {
          "output_type": "display_data",
          "data": {
            "image/png": "[encoded data removed]",
            "text/plain": [
              "<Figure size 432x288 with 1 Axes>"
            ]
          },
          "metadata": {
            "tags": [],
            "needs_background": "light"
          }
        }
      ]
    },
    {
      "cell_type": "markdown",
      "metadata": {
        "id": "b5f7Q6P-iLFq"
      },
      "source": [
        "## BOX COX TRANSFORMATION\n",
        "\n",
        "A Box Cox transformation is a transformation of a non-normal dependent variables into a normal shape.If the distribution is not normal then apply a Box-Cox transformation to run a broader number of tests."
      ]
    },
    {
      "cell_type": "code",
      "metadata": {
        "colab": {
          "base_uri": "https://localhost:8080/",
          "height": 336
        },
        "id": "fXo-Ak30h-pM",
        "outputId": "238d4f65-4b5d-4b4b-a5f8-fe56f2b44af7"
      },
      "source": [
        "original_data = df['Annual_HH_Income']\n",
        "fitted_data, fitted_lambda = stats.boxcox(original_data)\n",
        "sns.distplot(fitted_data,hist=False)"
      ],
      "execution_count": 47,
      "outputs": [
        {
          "output_type": "stream",
          "text": [
            "/usr/local/lib/python3.7/dist-packages/seaborn/distributions.py:2557: FutureWarning: `distplot` is a deprecated function and will be removed in a future version. Please adapt your code to use either `displot` (a figure-level function with similar flexibility) or `kdeplot` (an axes-level function for kernel density plots).\n",
            "  warnings.warn(msg, FutureWarning)\n"
          ],
          "name": "stderr"
        },
        {
          "output_type": "execute_result",
          "data": {
            "text/plain": [
              "<matplotlib.axes._subplots.AxesSubplot at 0x7fd6e1014850>"
            ]
          },
          "metadata": {
            "tags": []
          },
          "execution_count": 47
        },
        {
          "output_type": "display_data",
          "data": {
            "image/png": "[encoded data removed]",
            "text/plain": [
              "<Figure size 432x288 with 1 Axes>"
            ]
          },
          "metadata": {
            "tags": [],
            "needs_background": "light"
          }
        }
      ]
    },
    {
      "cell_type": "code",
      "metadata": {
        "id": "ZSfuoN_Bi-R8"
      },
      "source": [
        ""
      ],
      "execution_count": null,
      "outputs": []
    }
  ]
}