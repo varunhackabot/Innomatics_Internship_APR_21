{
  "nbformat": 4,
  "nbformat_minor": 0,
  "metadata": {
    "colab": {
      "name": "Task-4(Python Programming).ipynb",
      "provenance": []
    },
    "kernelspec": {
      "name": "python3",
      "display_name": "Python 3"
    },
    "language_info": {
      "name": "python"
    }
  },
  "cells": [
    {
      "cell_type": "code",
      "metadata": {
        "id": "oh3g5Cog5w5X"
      },
      "source": [
        "#SWAP CASES\n",
        "#SOLUTION\n",
        "def swap_case(s):\n",
        "    new = ''\n",
        "    for i in s:\n",
        "        if i.isupper()==True:\n",
        "           new += i.lower()\n",
        "        elif i.islower()==True:\n",
        "            new += i.upper()\n",
        "        else:\n",
        "            new+=i\n",
        "    return new \n",
        "\n",
        "if __name__ == '__main__':\n",
        "    s = input()\n",
        "    result = swap_case(s)\n",
        "    print(result)"
      ],
      "execution_count": null,
      "outputs": []
    },
    {
      "cell_type": "code",
      "metadata": {
        "id": "4aiTMptR53Ji"
      },
      "source": [
        "#STRING SPLIT AND JOIN\n",
        "#SOLUTION\n",
        "def split_and_join(line):\n",
        "    a = line.split(\" \")\n",
        "    b = \"-\".join(a)\n",
        "    return b\n",
        "\n",
        "if __name__ == '__main__':\n",
        "    line = input()\n",
        "    result = split_and_join(line)\n",
        "    print(result)"
      ],
      "execution_count": null,
      "outputs": []
    },
    {
      "cell_type": "code",
      "metadata": {
        "id": "prQcve8J6Aco"
      },
      "source": [
        "#WHATS YOUR NAME\n",
        "#SOLUTION\n",
        "def print_full_name(first, last):\n",
        "    return \"Hello \"+first+\" \"+last+\"! You just delved into python.\"\n",
        "if __name__ == '__main__':\n",
        "    first_name = input()\n",
        "    last_name = input()\n",
        "    print_full_name(first_name, last_name)"
      ],
      "execution_count": null,
      "outputs": []
    },
    {
      "cell_type": "code",
      "metadata": {
        "id": "bnVEKRYw6JwY"
      },
      "source": [
        "#MUTATION\n",
        "#SOLUTION\n",
        "def mutate_string(string, position, character):\n",
        "    a = list(string)\n",
        "    a[position] = character\n",
        "    b = \"\"\n",
        "    for i in a:\n",
        "        b +=i\n",
        "    return b\n",
        "    \n",
        "\n",
        "if __name__ == '__main__':\n",
        "    s = input()\n",
        "    i, c = input().split()\n",
        "    s_new = mutate_string(s, int(i), c)\n",
        "    print(s_new)"
      ],
      "execution_count": null,
      "outputs": []
    },
    {
      "cell_type": "code",
      "metadata": {
        "id": "e7MgcJNv6RxL"
      },
      "source": [
        "#FIND A STRING\n",
        "#SOLUTIONdef count_substring(string, sub_string):\n",
        "    count = 0\n",
        "    for i in range(len(string)):\n",
        "        if(string[i:].startswith(sub_string)):\n",
        "            count+=1\n",
        "    return count"
      ],
      "execution_count": null,
      "outputs": []
    },
    {
      "cell_type": "code",
      "metadata": {
        "id": "L9xfcDg76fQ9"
      },
      "source": [
        "#STRING VALIDATORS\n",
        "#SOLUTION\n",
        "if __name__ == '__main__':\n",
        "    s = input()\n",
        "    print(any([char.isalnum() for char in s]))\n",
        "    print(any([char.isalpha() for char in s]))\n",
        "    print(any([char.isdigit() for char in s]))\n",
        "    print(any([char.islower() for char in s]))\n",
        "    print(any([char.isupper() for char in s]))"
      ],
      "execution_count": null,
      "outputs": []
    },
    {
      "cell_type": "code",
      "metadata": {
        "id": "nc0f8cwY6rvi"
      },
      "source": [
        "#TEXT ALIGNMENT\n",
        "#SOLUTION\n",
        "#Replace all ______ with rjust, ljust or center. \n",
        "\n",
        "thickness = int(input()) #This must be an odd number\n",
        "c = 'H'\n",
        "\n",
        "#Top Cone\n",
        "for i in range(thickness):\n",
        "    print((c*i).rjust(thickness-1)+c+(c*i).ljust(thickness-1))\n",
        "\n",
        "#Top Pillars\n",
        "for i in range(thickness+1):\n",
        "    print((c*thickness).center(thickness*2)+(c*thickness).center(thickness*6))\n",
        "\n",
        "#Middle Belt\n",
        "for i in range((thickness+1)//2):\n",
        "    print((c*thickness*5).center(thickness*6))    \n",
        "\n",
        "#Bottom Pillars\n",
        "for i in range(thickness+1):\n",
        "    print((c*thickness).center(thickness*2)+(c*thickness).center(thickness*6))    \n",
        "\n",
        "#Bottom Cone\n",
        "for i in range(thickness):\n",
        "    print(((c*(thickness-i-1)).rjust(thickness)+c+(c*(thickness-i-1)).ljust(thickness)).rjust(thickness*6))\n"
      ],
      "execution_count": null,
      "outputs": []
    },
    {
      "cell_type": "code",
      "metadata": {
        "id": "ctFk_IJo63dD"
      },
      "source": [
        "#TEXT WRAP\n",
        "#SOLUTION\n",
        "def wrap(string, max_width):\n",
        "    a = textwrap.fill(string,width=max_width)\n",
        "    \n",
        "    return a\n"
      ],
      "execution_count": null,
      "outputs": []
    },
    {
      "cell_type": "code",
      "metadata": {
        "id": "3He4TIS97DOL"
      },
      "source": [
        "#DESIGNER DOOR MAT\n",
        "#SOLUTION\n",
        "a,b = map(int,input().split())\n",
        "for i in range(1,a,2):\n",
        "    print((i*'.|.').center(b,\"-\"))\n",
        "print(\"WELCOME\".center(b,\"-\"))\n",
        "for i in range(a-2,-1,-2):\n",
        "    print((i*'.|.').center(b,\"-\"))\n"
      ],
      "execution_count": null,
      "outputs": []
    },
    {
      "cell_type": "code",
      "metadata": {
        "id": "Q2LeJDWk7N_G"
      },
      "source": [
        "#ALPHABET RANGOLI\n",
        "#SOLUTION\n",
        "def print_rangoli(size):\n",
        "    string = 'abcdefghijklmnopqrstuvwxyz'[0:size]\n",
        "    for i in range(size-1, -size, -1):\n",
        "        l = abs(i)\n",
        "        w = string[size:l:-1]+string[l:size]\n",
        "        print(\"--\"*l+ '-'.join(w)+\"--\"*l)\n",
        "if __name__ == '__main__':\n",
        "    n = int(input())\n",
        "    print_rangoli(n)"
      ],
      "execution_count": null,
      "outputs": []
    },
    {
      "cell_type": "code",
      "metadata": {
        "id": "Me9g3jNC7aEm"
      },
      "source": [
        "#CAPITALIZE\n",
        "#SOLUTION\n",
        "def solve(s):\n",
        "    s = s.capitalize()\n",
        "    for x in s[:].split():\n",
        "        s = s.replace(x,x.capitalize())\n",
        "    return(s)\n",
        "\n",
        "if __name__ == '__main__':\n",
        "    fptr = open(os.environ['OUTPUT_PATH'], 'w')\n",
        "\n",
        "    s = input()\n",
        "\n",
        "    result = solve(s)\n",
        "\n",
        "    fptr.write(result + '\\n')\n",
        "\n",
        "    fptr.close()"
      ],
      "execution_count": null,
      "outputs": []
    },
    {
      "cell_type": "code",
      "metadata": {
        "id": "oCgO9Yi_7ihV"
      },
      "source": [
        "#THE MINIONS GAME\n",
        "#SOLUTION\n",
        "def minion_game(string):\n",
        "    vowels = 'AEIOU'\n",
        "    kevin = 0\n",
        "    stuart = 0\n",
        "    for i in range(len(string)):\n",
        "        if(string[i] in vowels):\n",
        "            kevin+=len(string)-i\n",
        "        else:\n",
        "            stuart+=len(string)-i\n",
        "        \n",
        "    if(stuart>kevin):\n",
        "        print(\"Stuart {}\".format(stuart))\n",
        "    elif(stuart<kevin):\n",
        "        print(\"Kevin {}\".format(kevin))\n",
        "    else:\n",
        "        print(\"Draw\")\n",
        "if __name__ == '__main__':\n",
        "    s = input()\n",
        "    minion_game(s)"
      ],
      "execution_count": null,
      "outputs": []
    },
    {
      "cell_type": "code",
      "metadata": {
        "id": "EAfTB_DK7rz9"
      },
      "source": [
        "#MERGE THE TOOLS\n",
        "#SOLUTION\n",
        "def merge_the_tools(string, k):\n",
        "    while string:\n",
        "        s = string[0:k]\n",
        "        l = ''\n",
        "        for i in s:\n",
        "            if i not in l:\n",
        "                l+=i\n",
        "        print(l)\n",
        "        string = string[k:]\n",
        "if __name__ == '__main__':\n",
        "    string, k = input(), int(input())\n",
        "    merge_the_tools(string, k)"
      ],
      "execution_count": null,
      "outputs": []
    },
    {
      "cell_type": "code",
      "metadata": {
        "id": "l2x9GFlH7z-0"
      },
      "source": [
        "#STRING FORMATTING\n",
        "#SOLUTION\n",
        "def print_formatted(number):\n",
        "    for i in range(1,number+1):\n",
        "        a = len(str(bin(i).replace('0b','')))\n",
        "        d = str(i).rjust(a,' ')\n",
        "        o = str(oct(i).replace('0o',''))\n",
        "        h = str(hex(i).replace('0x','').upper())\n",
        "        b = str(bin(i).replace('0b',''))\n",
        "        print(d,o,h,b)"
      ],
      "execution_count": null,
      "outputs": []
    }
  ]
}