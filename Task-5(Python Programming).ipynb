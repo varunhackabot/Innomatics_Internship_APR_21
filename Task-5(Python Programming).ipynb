{
  "nbformat": 4,
  "nbformat_minor": 0,
  "metadata": {
    "colab": {
      "name": "Task-5(Python Programming).ipynb",
      "provenance": []
    },
    "kernelspec": {
      "name": "python3",
      "display_name": "Python 3"
    },
    "language_info": {
      "name": "python"
    }
  },
  "cells": [
    {
      "cell_type": "code",
      "metadata": {
        "id": "DJhUW5V46xtl"
      },
      "source": [
        "#Detect Floating Number\n",
        "#SOLUTION\n",
        "import re\n",
        "for i in range(int(input())):\n",
        "    print(bool(re.match(r'^[-+]?[0-9]*\\.[0-9]+$', input())))\n"
      ],
      "execution_count": null,
      "outputs": []
    },
    {
      "cell_type": "code",
      "metadata": {
        "id": "8KgtLHsq7L14"
      },
      "source": [
        "#Re.split()\n",
        "#SOLUTION\n",
        "regex_pattern = r\"[.,]+\"\n",
        "import re\n",
        "print(\"\\n\".join(re.split(regex_pattern, input())))"
      ],
      "execution_count": null,
      "outputs": []
    },
    {
      "cell_type": "code",
      "metadata": {
        "id": "J6779_Z37VJY"
      },
      "source": [
        "#Group(),groups() & groupdict()\n",
        "#SOLUTION\n",
        "import re\n",
        "a = re.search(r\"([a-z0-9]\\1+)\", input())\n",
        "print(a.group(1) if a else -1)\n"
      ],
      "execution_count": null,
      "outputs": []
    },
    {
      "cell_type": "code",
      "metadata": {
        "id": "zpJYcUCr7kuj"
      },
      "source": [
        "#Re.findall() & Re.finditer()\n",
        "#SOLUTION\n",
        "import re\n",
        "consonants = 'bcdfghjklmnpqrstvwxyz'\n",
        "vowels = 'aeiou'\n",
        "match = re.findall(r'(?<=['+consonants+'])(['+vowels+']{2,})(?=['+consonants+'])',input(),flags = re.I)\n",
        "if(match==[]):\n",
        "    print('-1')\n",
        "else:\n",
        "    for i in match:\n",
        "        print(i,end ='\\n')\n"
      ],
      "execution_count": null,
      "outputs": []
    },
    {
      "cell_type": "code",
      "metadata": {
        "id": "wBdEBDHL71Ou"
      },
      "source": [
        "#Re.start() & Re.end()\n",
        "#SOLUTION\n",
        "import re\n",
        "a = input()\n",
        "b = input()\n",
        "c = len(b)\n",
        "for (i,x) in enumerate(a):\n",
        "    if re.match(b,a[i:]):\n",
        "        print((i,i+c-1))\n",
        "if re.search(b,a) == None:\n",
        "    print((-1,-1))  \n"
      ],
      "execution_count": null,
      "outputs": []
    },
    {
      "cell_type": "code",
      "metadata": {
        "id": "YUA9hTom8H66"
      },
      "source": [
        "#Regex Substitution\n",
        "#SOLUTION\n",
        "for i in range(int(input())):\n",
        "    a = input()\n",
        "    while ' && ' in a or ' || ' in a:\n",
        "        a = a.replace(\" && \", \" and \").replace(\" || \", \" or \")    \n",
        "    print(a)\n"
      ],
      "execution_count": null,
      "outputs": []
    },
    {
      "cell_type": "code",
      "metadata": {
        "id": "LYL-Gxun8XbJ"
      },
      "source": [
        "#Validating Roman Numeral\n",
        "#SOLUTION\n",
        "import re\n",
        "thousand = 'M{0,3}'\n",
        "hundred = '(C[MD]|D?C{0,3})'\n",
        "ten = '(X[CL]|L?X{0,3})'\n",
        "digit = '(I[VX]|V?I{0,3})'\n",
        "regex_pattern = r\"^\" + thousand + hundred + ten + digit + \"$\"\n",
        "import re\n",
        "print(str(bool(re.match(regex_pattern, input()))))"
      ],
      "execution_count": null,
      "outputs": []
    },
    {
      "cell_type": "code",
      "metadata": {
        "id": "NDLbypOn8l82"
      },
      "source": [
        "#VALIDATING PHONE NUMBERS\n",
        "#SOLUTION\n",
        "import re\n",
        "for i in range(int(input())):\n",
        "    if(re.match(r'[789]\\d{9}$',input())):\n",
        "        print(\"YES\")\n",
        "    else:\n",
        "        print(\"NO\")\n"
      ],
      "execution_count": null,
      "outputs": []
    },
    {
      "cell_type": "code",
      "metadata": {
        "id": "GUvWuQMk8vSC"
      },
      "source": [
        "#Validating and Parsing Email Address\n",
        "#SOLUTION\n",
        "n=int(input())\n",
        "import re\n",
        "regexpatt=r'[\\S]+\\s<[a-z][\\w\\-\\.]*@[a-z]+[\\.][a-z]{1,3}>$'\n",
        "for i in range(0,n):\n",
        "    match=re.search(regexpatt,input())\n",
        "    if match:\n",
        "        print(match.group())\n"
      ],
      "execution_count": null,
      "outputs": []
    },
    {
      "cell_type": "code",
      "metadata": {
        "id": "ppgRQnak88Sv"
      },
      "source": [
        "#Hex Color Code\n",
        "#SOLUTION\n",
        "import re\n",
        "for i in range(int(input())):\n",
        "    matches = re.findall(r':?.(#[0-9a-fA-F]{6}|#[0-9a-fA-F]{3})', input())\n",
        "    if matches:\n",
        "        print(*matches, sep='\\n')\n"
      ],
      "execution_count": null,
      "outputs": []
    },
    {
      "cell_type": "code",
      "metadata": {
        "id": "7P992tSe9H_v"
      },
      "source": [
        "#HTML Parser -1\n",
        "#SOLUTION\n",
        "from html.parser import HTMLParser\n",
        "class MyHTMLParser(HTMLParser):\n",
        "    def handle_starttag(self, tag, attrs):        \n",
        "        print ('Start :',tag)\n",
        "        for ele in attrs:\n",
        "            print ('->',ele[0],'>',ele[1])\n",
        "            \n",
        "    def handle_endtag(self, tag):\n",
        "        print ('End   :',tag)\n",
        "        \n",
        "    def handle_startendtag(self, tag, attrs):\n",
        "        print ('Empty :',tag)\n",
        "        for ele in attrs:\n",
        "            print ('->',ele[0],'>',ele[1])\n",
        "            \n",
        "MyParser = MyHTMLParser()\n",
        "MyParser.feed(''.join([input().strip() for _ in range(int(input()))]))\n"
      ],
      "execution_count": null,
      "outputs": []
    },
    {
      "cell_type": "code",
      "metadata": {
        "id": "xILmpzWh9X_9"
      },
      "source": [
        "#HTML PARSER -2\n",
        "#SOLUTION\n",
        "from html.parser import HTMLParser\n",
        "\n",
        "class MyHTMLParser(HTMLParser):\n",
        "    def handle_comment(self,data):\n",
        "        if('\\n' in data):\n",
        "            print(\">>> Multi-line Comment\")\n",
        "        else:\n",
        "            print(\">>> Single-line Comment\")\n",
        "        print(data)\n",
        "    def handle_data(self,data):\n",
        "        if(data != '\\n'):\n",
        "            print(\">>> Data\")\n",
        "            print(data)\n",
        "html = \"\"       \n",
        "for i in range(int(input())):\n",
        "    html += input().rstrip()\n",
        "    html += '\\n'\n",
        "    \n",
        "parser = MyHTMLParser()\n",
        "parser.feed(html)\n",
        "parser.close()"
      ],
      "execution_count": null,
      "outputs": []
    },
    {
      "cell_type": "code",
      "metadata": {
        "id": "GPNPFqnU-ZI0"
      },
      "source": [
        "#Detect HTML Tags, Attributes and Attribute Value\n",
        "#SOLUTION\n",
        "from html.parser import HTMLParser\n",
        "class MyHTMLParser(HTMLParser):\n",
        "    def handle_starttag(self, tag, attrs):\n",
        "        print(tag)\n",
        "        [print('-> {} > {}'.format(*attr)) for attr in attrs]\n",
        "        \n",
        "html = '\\n'.join([input() for _ in range(int(input()))])\n",
        "parser = MyHTMLParser()\n",
        "parser.feed(html)\n",
        "parser.close()"
      ],
      "execution_count": null,
      "outputs": []
    },
    {
      "cell_type": "code",
      "metadata": {
        "id": "HNd-NkgM-mbY"
      },
      "source": [
        "#VALIDATING UID\n",
        "#SOLUTION\n",
        "import re\n",
        "for _ in range(int(input())):\n",
        "    s = input()\n",
        "    print('Valid' if all([re.search(r, s) for r in [r'[A-Z0-9a-z]{10}',r'([A-Z].*){2}',r'([0-9].*){3}']]) and not re.search(r'.*(.).*\\1', s) else 'Invalid')"
      ],
      "execution_count": null,
      "outputs": []
    },
    {
      "cell_type": "code",
      "metadata": {
        "id": "x2knukXV-qA5"
      },
      "source": [
        "#Validating Credit Number\n",
        "#SOLUTION\n",
        "for i in range(int(input())):\n",
        "    s = input()\n",
        "\n",
        "    if re.match(r\"^[456]([\\d]{15}|[\\d]{3}(-[\\d]{4}){3})$\", s) and not re.search(r\"([\\d])\\1\\1\\1\", s.replace(\"-\", \"\")):\n",
        "        print(\"Valid\")\n",
        "    else:\n",
        "        print(\"Invalid\")\n"
      ],
      "execution_count": null,
      "outputs": []
    },
    {
      "cell_type": "code",
      "metadata": {
        "id": "MaipRNxK-wgV"
      },
      "source": [
        "#Validating Postal Codes\n",
        "#SOLUTION\n",
        "regex_integer_in_range = r\"^[1-9]{5}[0-9]$\"\n",
        "regex_alternating_repetitive_digit_pair = r\"(\\d)(?=.\\1)\"\n",
        "\n",
        "\n",
        "\n",
        "import re\n",
        "P = input()\n",
        "\n",
        "print (bool(re.match(regex_integer_in_range, P)) \n",
        "and len(re.findall(regex_alternating_repetitive_digit_pair, P)) < 2)"
      ],
      "execution_count": null,
      "outputs": []
    },
    {
      "cell_type": "code",
      "metadata": {
        "id": "0iQ1n42b-7af"
      },
      "source": [
        "#MATRIX SCRIPT\n",
        "#SOLUTION\n",
        "import math\n",
        "import os\n",
        "import random\n",
        "import re\n",
        "import sys\n",
        "\n",
        "first_multiple_input = input().rstrip().split()\n",
        "\n",
        "n = int(first_multiple_input[0])\n",
        "\n",
        "m = int(first_multiple_input[1])\n",
        "\n",
        "matrix = []\n",
        "\n",
        "for _ in range(n):\n",
        "    matrix_item = input()\n",
        "    matrix.append(matrix_item)\n",
        "b = ''\n",
        "for z in zip(*matrix):\n",
        "    b += \"\".join(z)\n",
        "\n",
        "print(re.sub(r\"([^\\w]+)(?=\\w)(?<=\\w)\", \" \", b))\n"
      ],
      "execution_count": null,
      "outputs": []
    }
  ]
}